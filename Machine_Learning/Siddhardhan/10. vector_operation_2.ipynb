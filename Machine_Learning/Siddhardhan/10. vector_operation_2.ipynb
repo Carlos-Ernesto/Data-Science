{
 "cells": [
  {
   "cell_type": "code",
   "execution_count": 1,
   "metadata": {},
   "outputs": [],
   "source": [
    "import numpy as np"
   ]
  },
  {
   "cell_type": "markdown",
   "metadata": {},
   "source": [
    "Dot Product of 2 Vectors"
   ]
  },
  {
   "cell_type": "code",
   "execution_count": 2,
   "metadata": {},
   "outputs": [
    {
     "name": "stdout",
     "output_type": "stream",
     "text": [
      "20\n"
     ]
    }
   ],
   "source": [
    "a = np.array([2,3])\n",
    "b = np.array([4,4])\n",
    "\n",
    "a_dot_b = np.dot(a,b)\n",
    "print(a_dot_b)"
   ]
  },
  {
   "cell_type": "code",
   "execution_count": 4,
   "metadata": {},
   "outputs": [
    {
     "name": "stdout",
     "output_type": "stream",
     "text": [
      "4980\n"
     ]
    }
   ],
   "source": [
    "c = np.array([40,20,35])\n",
    "d = np.array([53,24,68])\n",
    "\n",
    "c_dot_d = np.dot(c,d)\n",
    "print(c_dot_d)"
   ]
  },
  {
   "cell_type": "markdown",
   "metadata": {},
   "source": [
    "Cross Product of 2 Vectors"
   ]
  },
  {
   "cell_type": "code",
   "execution_count": 8,
   "metadata": {},
   "outputs": [
    {
     "name": "stdout",
     "output_type": "stream",
     "text": [
      "[-4  0  0]\n"
     ]
    }
   ],
   "source": [
    "a = np.array([2,3])\n",
    "b = np.array([4,4])\n",
    "\n",
    "a_croos_b = np.cross(a,b)\n",
    "print(a_croos_b)"
   ]
  },
  {
   "cell_type": "code",
   "execution_count": 9,
   "metadata": {},
   "outputs": [
    {
     "name": "stdout",
     "output_type": "stream",
     "text": [
      "[ 0  0 -4]\n"
     ]
    }
   ],
   "source": [
    "a = np.array([2,3,0])\n",
    "b = np.array([4,4,0])\n",
    "\n",
    "a_croos_b = np.cross(a,b)\n",
    "print(a_croos_b)"
   ]
  },
  {
   "cell_type": "code",
   "execution_count": 7,
   "metadata": {},
   "outputs": [
    {
     "name": "stdout",
     "output_type": "stream",
     "text": [
      "[-140  110  -20]\n"
     ]
    }
   ],
   "source": [
    "e = np.array([5,10,20])\n",
    "f = np.array([18,32,50])\n",
    "\n",
    "e_cross_f = np.cross(e,f)\n",
    "print(e_cross_f)"
   ]
  },
  {
   "cell_type": "markdown",
   "metadata": {},
   "source": [
    "Projection of 'a' vector on 'v' vector\n"
   ]
  },
  {
   "cell_type": "code",
   "execution_count": 12,
   "metadata": {},
   "outputs": [
    {
     "data": {
      "text/plain": [
       "array([-1.12,  0.84])"
      ]
     },
     "execution_count": 12,
     "metadata": {},
     "output_type": "execute_result"
    }
   ],
   "source": [
    "a = np.array([2,5])\n",
    "v = np.array([8,-6])\n",
    "\n",
    "magnitude_v_vector = np.sqrt(sum(v**2))\n",
    "\n",
    "proj_of_a_on_v= (np.dot(a,v/magnitude_v_vector**2))*v\n",
    "proj_of_a_on_v"
   ]
  },
  {
   "cell_type": "code",
   "execution_count": 13,
   "metadata": {},
   "outputs": [
    {
     "data": {
      "text/plain": [
       "array([30.18242937, 54.99909352, 44.93828373])"
      ]
     },
     "execution_count": 13,
     "metadata": {},
     "output_type": "execute_result"
    }
   ],
   "source": [
    "a = np.array([23,45,62])\n",
    "v = np.array([45,82,67])\n",
    "\n",
    "magnitude_v_vector = np.sqrt(sum(v**2))\n",
    "\n",
    "proj_of_a_on_v= (np.dot(a,v/magnitude_v_vector**2))*v\n",
    "proj_of_a_on_v"
   ]
  }
 ],
 "metadata": {
  "kernelspec": {
   "display_name": "Python 3",
   "language": "python",
   "name": "python3"
  },
  "language_info": {
   "codemirror_mode": {
    "name": "ipython",
    "version": 3
   },
   "file_extension": ".py",
   "mimetype": "text/x-python",
   "name": "python",
   "nbconvert_exporter": "python",
   "pygments_lexer": "ipython3",
   "version": "3.12.2"
  }
 },
 "nbformat": 4,
 "nbformat_minor": 2
}
