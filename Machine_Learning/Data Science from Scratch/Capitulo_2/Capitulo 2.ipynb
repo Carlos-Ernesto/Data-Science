{
 "cells": [
  {
   "cell_type": "markdown",
   "metadata": {},
   "source": [
    " # **Capitulo 2**"
   ]
  },
  {
   "cell_type": "markdown",
   "metadata": {},
   "source": [
    "# [1. El Zen de python](https://www.youtube.com/watch?v=3db2cWxgwOg)"
   ]
  },
  {
   "cell_type": "markdown",
   "metadata": {},
   "source": [
    "# [2. Entornos virtuales en python](https://www.youtube.com/watch?v=9rlA1dx1TXQ&t=112s)"
   ]
  },
  {
   "cell_type": "markdown",
   "metadata": {},
   "source": [
    "# 3. Formato de espacios en blanco"
   ]
  },
  {
   "cell_type": "code",
   "execution_count": 2,
   "metadata": {},
   "outputs": [
    {
     "name": "stdout",
     "output_type": "stream",
     "text": [
      "1\n",
      "1\n",
      "2\n",
      "2\n",
      "3\n",
      "3\n",
      "4\n",
      "4\n",
      "5\n",
      "5\n",
      "6\n",
      "1\n",
      "2\n",
      "1\n",
      "3\n",
      "2\n",
      "4\n",
      "3\n",
      "5\n",
      "4\n",
      "6\n",
      "5\n",
      "7\n",
      "2\n",
      "3\n",
      "1\n",
      "4\n",
      "2\n",
      "5\n",
      "3\n",
      "6\n",
      "4\n",
      "7\n",
      "5\n",
      "8\n",
      "3\n",
      "4\n",
      "1\n",
      "5\n",
      "2\n",
      "6\n",
      "3\n",
      "7\n",
      "4\n",
      "8\n",
      "5\n",
      "9\n",
      "4\n",
      "5\n",
      "1\n",
      "6\n",
      "2\n",
      "7\n",
      "3\n",
      "8\n",
      "4\n",
      "9\n",
      "5\n",
      "10\n",
      "5\n",
      "bucle terminado\n"
     ]
    }
   ],
   "source": [
    "#formato de tabulacion\n",
    "for i in [1, 2, 3, 4, 5]:\n",
    "    print(i)                    # Primera linea en el bloque \"for i\"\n",
    "    for j in [1, 2, 3, 4, 5]:\n",
    "        print(j)                # Primera linea en el bloque \"for j\"\n",
    "        print(i + j)            # Ultima linea en el bloque \"for j\"\n",
    "    print(i)                    # Ultima linea en el bloque \"for i\"\n",
    "print(\"bucle terminado\")"
   ]
  },
  {
   "cell_type": "code",
   "execution_count": 3,
   "metadata": {},
   "outputs": [
    {
     "name": "stdout",
     "output_type": "stream",
     "text": [
      "1\n",
      "1\n",
      "2\n",
      "2\n",
      "3\n",
      "3\n",
      "4\n",
      "4\n",
      "5\n",
      "5\n",
      "6\n",
      "1\n",
      "2\n",
      "1\n",
      "3\n",
      "2\n",
      "4\n",
      "3\n",
      "5\n",
      "4\n",
      "6\n",
      "5\n",
      "7\n",
      "2\n",
      "3\n",
      "1\n",
      "4\n",
      "2\n",
      "5\n",
      "3\n",
      "6\n",
      "4\n",
      "7\n",
      "5\n",
      "8\n",
      "3\n",
      "4\n",
      "1\n",
      "5\n",
      "2\n",
      "6\n",
      "3\n",
      "7\n",
      "4\n",
      "8\n",
      "5\n",
      "9\n",
      "4\n",
      "5\n",
      "1\n",
      "6\n",
      "2\n",
      "7\n",
      "3\n",
      "8\n",
      "4\n",
      "9\n",
      "5\n",
      "10\n",
      "5\n",
      "bucle terminado\n"
     ]
    }
   ],
   "source": [
    "#formatoi con espacios\n",
    "for i in [1, 2, 3, 4, 5]:\n",
    " print(i)                    # Primera linea en el bloque \"for i\"\n",
    " for j in [1, 2, 3, 4, 5]:\n",
    "   print(j)                # Primera linea en el bloque \"for j\"\n",
    "   print(i + j)            # Ultima linea en el bloque \"for j\"\n",
    " print(i)                    # Ultima linea en el bloque \"for i\"\n",
    "print(\"bucle terminado\")"
   ]
  },
  {
   "cell_type": "code",
   "execution_count": 5,
   "metadata": {},
   "outputs": [
    {
     "ename": "IndentationError",
     "evalue": "unindent does not match any outer indentation level (<string>, line 8)",
     "output_type": "error",
     "traceback": [
      "\u001b[1;36m  File \u001b[1;32m<string>:8\u001b[1;36m\u001b[0m\n\u001b[1;33m    return r                # error: inconsistent dedent\u001b[0m\n\u001b[1;37m                                                        ^\u001b[0m\n\u001b[1;31mIndentationError\u001b[0m\u001b[1;31m:\u001b[0m unindent does not match any outer indentation level\n"
     ]
    }
   ],
   "source": [
    "# https://docs.python.org/es/3/reference/lexical_analysis.html#indentation\n",
    " def perm(l):                       # error: first line indented\n",
    "for i in range(len(l)):             # error: not indented\n",
    "    s = l[:i] + l[i+1:]\n",
    "        p = perm(l[:i] + l[i+1:])   # error: unexpected indent\n",
    "        for x in p:\n",
    "                r.append(l[i:i+1] + x)\n",
    "            return r                # error: inconsistent dedent"
   ]
  },
  {
   "cell_type": "markdown",
   "metadata": {},
   "source": [
    "### [Unión implícita de líneas](https://docs.python.org/es/3/reference/lexical_analysis.html#implicit-line-joining)"
   ]
  },
  {
   "cell_type": "markdown",
   "metadata": {},
   "source": [
    "Los espacios en blanco se ignoran dentro de:\n",
    "* parentesis que representan tuplas, \n",
    "* corchetes que representan listas y \n",
    "* llaves que representan diccionarios\n",
    "\n",
    "Esto es útil para calculos extensos y para hacer que el código se lea mejor."
   ]
  },
  {
   "cell_type": "code",
   "execution_count": 6,
   "metadata": {},
   "outputs": [],
   "source": [
    "alculo_largo = (1 + 2 + 3 + 4 + 5 + 6 + 7 + 8 + 9 + 10 +\n",
    "                11 + 12 +13 + 14 + 15 + 16 + 17 + 18 + 19 + 20) #tuple\n",
    "\n",
    "lista_de_listas = [[1, 2, 3], [4, 5, 6], [7, 8, 9]] #list\n",
    "\n",
    "lectura_facil_lista_de_listas = [[1, 2, 3],\n",
    "                                 [4, 5, 6],\n",
    "                                 [7, 8, 9]] #list\n",
    "\n",
    "ultimo_dia_meses = {'enero':31, 'febrero':28, 'marzo':31,\n",
    "                    'abril':30,'mayo':31, 'junio':30, 'julio':31, \n",
    "                    'agosto':31,'septiembre':30, 'octubre':31, 'noviembre':30, 'diciembre':31} #dict"
   ]
  },
  {
   "cell_type": "markdown",
   "metadata": {},
   "source": [
    "### [Unión explícita de líneas](https://docs.python.org/es/3/reference/lexical_analysis.html#explicit-line-joining)"
   ]
  },
  {
   "cell_type": "code",
   "execution_count": 7,
   "metadata": {},
   "outputs": [
    {
     "data": {
      "text/plain": [
       "True"
      ]
     },
     "execution_count": 7,
     "metadata": {},
     "output_type": "execute_result"
    }
   ],
   "source": [
    "def es_una_fecha(anio,mes,dia,hora,minutos,segundos): \n",
    "   if 1900 < anio < 2100 and 1 <= mes <= 12 \\\n",
    "   and 1 <= dia <= 31 and 0 <= hora < 24 \\\n",
    "   and 0 <= minutos < 60 and 0 <= segundos < 60:\n",
    "      return True\n",
    "   return False\n",
    "es_una_fecha(2020,5,20,13,25,56)"
   ]
  },
  {
   "cell_type": "code",
   "execution_count": 8,
   "metadata": {},
   "outputs": [
    {
     "data": {
      "text/plain": [
       "True"
      ]
     },
     "execution_count": 8,
     "metadata": {},
     "output_type": "execute_result"
    }
   ],
   "source": [
    "def es_una_fecha(anio,mes,dia,hora,minutos,segundos): \n",
    "   if 1900 < anio < 2100 and 1 <= mes <= 12 and 1 <= dia <= 31 and 0 <= hora < 24 and 0 <= minutos < 60 and 0 <= segundos < 60:\n",
    "      return True\n",
    "   return False\n",
    "   \n",
    "es_una_fecha(2020,5,20,13,25,56)"
   ]
  },
  {
   "cell_type": "code",
   "execution_count": 9,
   "metadata": {},
   "outputs": [
    {
     "data": {
      "text/plain": [
       "True"
      ]
     },
     "execution_count": 9,
     "metadata": {},
     "output_type": "execute_result"
    }
   ],
   "source": [
    "def es_una_fecha(anio,mes,dia,hora,minutos,segundos): \n",
    "   if 1900 < anio < 2100 and 1 <= mes <= 12 and 1 <= dia <= 31 and 0 <= hora < 24 and 0 <= minutos < 60 and 0 <= segundos < 60:\n",
    "      return True\n",
    "   return False\n",
    "   \n",
    "es_una_fecha(2020,5,20,13,25,56)"
   ]
  },
  {
   "cell_type": "markdown",
   "metadata": {},
   "source": [
    "# 4. Módulos"
   ]
  },
  {
   "cell_type": "markdown",
   "metadata": {},
   "source": [
    "#### Importar el propio módulo"
   ]
  },
  {
   "cell_type": "code",
   "execution_count": 10,
   "metadata": {},
   "outputs": [],
   "source": [
    "import re\n",
    "my_regex = re.compile(\"[0-9]+\", re.I)"
   ]
  },
  {
   "cell_type": "markdown",
   "metadata": {},
   "source": [
    "#### Usar un alias"
   ]
  },
  {
   "cell_type": "code",
   "execution_count": 11,
   "metadata": {},
   "outputs": [
    {
     "name": "stdout",
     "output_type": "stream",
     "text": [
      "variable propia\n",
      "re.compile('[0-9]+', re.IGNORECASE)\n"
     ]
    }
   ],
   "source": [
    "import re as regex\n",
    "\n",
    "re = \"variable propia\"\n",
    "my_regex = regex.compile(\"[0-9]+\", regex.I)\n",
    "\n",
    "print(re)\n",
    "print(my_regex)"
   ]
  },
  {
   "cell_type": "markdown",
   "metadata": {},
   "source": [
    "#### Convension de alias yá definidos"
   ]
  },
  {
   "cell_type": "code",
   "execution_count": 12,
   "metadata": {},
   "outputs": [
    {
     "data": {
      "text/plain": [
       "[<matplotlib.lines.Line2D at 0x1d63c7a1190>]"
      ]
     },
     "execution_count": 12,
     "metadata": {},
     "output_type": "execute_result"
    },
    {
     "data": {
      "image/png": "[encoded data removed]",
      "text/plain": [
       "<Figure size 640x480 with 1 Axes>"
      ]
     },
     "metadata": {},
     "output_type": "display_data"
    }
   ],
   "source": [
    "import matplotlib.pyplot as plt\n",
    "#plt.plot(eje_x, eje_y)\n",
    "plt.plot([1,2,3,4,5,6],[0,1,2,3,4,8])"
   ]
  },
  {
   "cell_type": "code",
   "execution_count": 13,
   "metadata": {},
   "outputs": [
    {
     "data": {
      "text/plain": [
       "[<matplotlib.lines.Line2D at 0x1d63ca9f170>]"
      ]
     },
     "execution_count": 13,
     "metadata": {},
     "output_type": "execute_result"
    },
    {
     "data": {
      "image/png": "[encoded data removed]",
      "text/plain": [
       "<Figure size 640x480 with 1 Axes>"
      ]
     },
     "metadata": {},
     "output_type": "display_data"
    }
   ],
   "source": [
    "import matplotlib.pyplot\n",
    "#plt.plot([1,2,3,4,5,6],[0,1,2,3,4,8])\n",
    "matplotlib.pyplot.plot([1,2,3,4,5,6],[0,1,2,3,4,8])"
   ]
  },
  {
   "cell_type": "markdown",
   "metadata": {},
   "source": [
    "#### Importar varios modulos"
   ]
  },
  {
   "cell_type": "code",
   "execution_count": 14,
   "metadata": {},
   "outputs": [],
   "source": [
    "import matplotlib.pyplot as plt\n",
    "import matplotlib.axis as coordenadas"
   ]
  },
  {
   "cell_type": "code",
   "execution_count": 15,
   "metadata": {},
   "outputs": [],
   "source": [
    "from matplotlib import pyplot, axis"
   ]
  },
  {
   "cell_type": "markdown",
   "metadata": {},
   "source": [
    "#### Alias a varios módulos"
   ]
  },
  {
   "cell_type": "code",
   "execution_count": 16,
   "metadata": {},
   "outputs": [],
   "source": [
    "from matplotlib import pyplot as plt, axis as coordenadas, category as categoria"
   ]
  },
  {
   "cell_type": "markdown",
   "metadata": {},
   "source": [
    "#### Módulos de clases y funciones que NO pertenecen a un paquete"
   ]
  },
  {
   "cell_type": "code",
   "execution_count": 17,
   "metadata": {},
   "outputs": [
    {
     "data": {
      "text/plain": [
       "[<matplotlib.lines.Line2D at 0x1d63ec71b80>]"
      ]
     },
     "execution_count": 17,
     "metadata": {},
     "output_type": "execute_result"
    },
    {
     "data": {
      "image/png": "[encoded data removed]",
      "text/plain": [
       "<Figure size 640x480 with 1 Axes>"
      ]
     },
     "metadata": {},
     "output_type": "display_data"
    }
   ],
   "source": [
    "import matplotlib.pyplot as plt\n",
    "plt.plot([1,2,3,4,5],[1,2,3,4,5])"
   ]
  },
  {
   "cell_type": "code",
   "execution_count": 18,
   "metadata": {},
   "outputs": [],
   "source": [
    "import collections\n",
    "from collections import defaultdict"
   ]
  },
  {
   "cell_type": "markdown",
   "metadata": {},
   "source": [
    "#### Cuidado al llamar un paquete o módulo"
   ]
  },
  {
   "cell_type": "code",
   "execution_count": 19,
   "metadata": {},
   "outputs": [
    {
     "name": "stdout",
     "output_type": "stream",
     "text": [
      "10\n"
     ]
    }
   ],
   "source": [
    "match = 10\n",
    "print(match)\n",
    "from re import *    "
   ]
  },
  {
   "cell_type": "markdown",
   "metadata": {},
   "source": [
    "# 5. Funciones"
   ]
  },
  {
   "cell_type": "markdown",
   "metadata": {},
   "source": [
    "#### Parametros y documentacion"
   ]
  },
  {
   "cell_type": "code",
   "execution_count": 20,
   "metadata": {},
   "outputs": [
    {
     "data": {
      "text/plain": [
       "8"
      ]
     },
     "execution_count": 20,
     "metadata": {},
     "output_type": "execute_result"
    }
   ],
   "source": [
    "def doble(x):\n",
    "    \"\"\"Esta funcion multiplica su entrada por 2\"\"\" \n",
    "    return x * 2;\n",
    "\n",
    "doble(4)"
   ]
  },
  {
   "cell_type": "markdown",
   "metadata": {},
   "source": [
    "#### Asignar funciones a variables"
   ]
  },
  {
   "cell_type": "code",
   "execution_count": 21,
   "metadata": {},
   "outputs": [
    {
     "data": {
      "text/plain": [
       "6"
      ]
     },
     "execution_count": 21,
     "metadata": {},
     "output_type": "execute_result"
    }
   ],
   "source": [
    "def aplicar_a_tres(f):\n",
    "    \"\"\"Llama a la funcion que pasamor por el parametro f pasando como argumento el valor 3\"\"\"\n",
    "    return f(3)\n",
    "\n",
    "mi_doble = doble                \n",
    "x = aplicar_a_tres(mi_doble)    \n",
    "x"
   ]
  },
  {
   "cell_type": "markdown",
   "metadata": {},
   "source": [
    "### funciones anonimas o lambdas"
   ]
  },
  {
   "cell_type": "code",
   "execution_count": 22,
   "metadata": {},
   "outputs": [
    {
     "data": {
      "text/plain": [
       "7"
      ]
     },
     "execution_count": 22,
     "metadata": {},
     "output_type": "execute_result"
    }
   ],
   "source": [
    "y = aplicar_a_tres(lambda x: x + 4)\n",
    "y"
   ]
  },
  {
   "cell_type": "code",
   "execution_count": 23,
   "metadata": {},
   "outputs": [
    {
     "data": {
      "text/plain": [
       "7"
      ]
     },
     "execution_count": 23,
     "metadata": {},
     "output_type": "execute_result"
    }
   ],
   "source": [
    "def sumarle_cuatro(x):\n",
    "    return x + 4\n",
    "\n",
    "z = aplicar_a_tres(sumarle_cuatro)\n",
    "z"
   ]
  },
  {
   "cell_type": "markdown",
   "metadata": {},
   "source": [
    "#### Asignar lambdas a variables"
   ]
  },
  {
   "cell_type": "code",
   "execution_count": 24,
   "metadata": {},
   "outputs": [
    {
     "data": {
      "text/plain": [
       "6"
      ]
     },
     "execution_count": 24,
     "metadata": {},
     "output_type": "execute_result"
    }
   ],
   "source": [
    "triple = lambda x: x * 3\n",
    "\n",
    "triple(2)"
   ]
  },
  {
   "cell_type": "markdown",
   "metadata": {},
   "source": [
    "### Asignar argumentos predeterminados a las funciones"
   ]
  },
  {
   "cell_type": "code",
   "execution_count": 25,
   "metadata": {},
   "outputs": [
    {
     "name": "stdout",
     "output_type": "stream",
     "text": [
      "Hola mundo\n",
      "Mensaje por defecto\n"
     ]
    }
   ],
   "source": [
    "def imprimir(mesnaje=\"Mensaje por defecto\"):\n",
    "    print(mesnaje)\n",
    "\n",
    "imprimir('Hola mundo')\n",
    "imprimir()"
   ]
  },
  {
   "cell_type": "markdown",
   "metadata": {},
   "source": [
    "#### Asignar por argumentos específicos"
   ]
  },
  {
   "cell_type": "code",
   "execution_count": 26,
   "metadata": {},
   "outputs": [
    {
     "name": "stdout",
     "output_type": "stream",
     "text": [
      "Joel Grus\n",
      "Joel ¿Cúal quiera?\n",
      "¿Cúal es el nombre? Grus\n",
      "Joel Grus\n",
      "¿Cúal es el nombre? ¿Cúal quiera?\n"
     ]
    }
   ],
   "source": [
    "def nombre_completo(primer=\"¿Cúal es el nombre?\", segundo=\"¿Cúal quiera?\"):\n",
    "    return primer +\" \"+ segundo\n",
    "\n",
    "print(nombre_completo(\"Joel\", \"Grus\"))\n",
    "print(nombre_completo(\"Joel\"))\n",
    "print(nombre_completo(segundo=\"Grus\"))\n",
    "print(nombre_completo(segundo=\"Grus\",primer=\"Joel\"))\n",
    "print(nombre_completo())"
   ]
  },
  {
   "cell_type": "markdown",
   "metadata": {},
   "source": [
    "# 6. String"
   ]
  },
  {
   "cell_type": "markdown",
   "metadata": {},
   "source": [
    "### Definiendo un `string`"
   ]
  },
  {
   "cell_type": "code",
   "execution_count": 27,
   "metadata": {},
   "outputs": [
    {
     "name": "stdout",
     "output_type": "stream",
     "text": [
      "Data Science From Scratch\n"
     ]
    },
    {
     "data": {
      "text/plain": [
       "'Data Science From Scratch'"
      ]
     },
     "execution_count": 27,
     "metadata": {},
     "output_type": "execute_result"
    }
   ],
   "source": [
    "# Dobles comillas\n",
    "print(\"Data Science From Scratch\")\n",
    "\"Data Science From Scratch\""
   ]
  },
  {
   "cell_type": "code",
   "execution_count": 28,
   "metadata": {},
   "outputs": [
    {
     "name": "stdout",
     "output_type": "stream",
     "text": [
      "Joel Grus\n"
     ]
    },
    {
     "data": {
      "text/plain": [
       "'Joel Grus'"
      ]
     },
     "execution_count": 28,
     "metadata": {},
     "output_type": "execute_result"
    }
   ],
   "source": [
    "# Comillas simples\n",
    "print('Joel Grus')\n",
    "'Joel Grus'"
   ]
  },
  {
   "cell_type": "code",
   "execution_count": 29,
   "metadata": {},
   "outputs": [
    {
     "ename": "SyntaxError",
     "evalue": "unterminated string literal (detected at line 1) (1455853896.py, line 1)",
     "output_type": "error",
     "traceback": [
      "\u001b[1;36m  Cell \u001b[1;32mIn[29], line 1\u001b[1;36m\u001b[0m\n\u001b[1;33m    print(\"Data Science From Scratch')\u001b[0m\n\u001b[1;37m          ^\u001b[0m\n\u001b[1;31mSyntaxError\u001b[0m\u001b[1;31m:\u001b[0m unterminated string literal (detected at line 1)\n"
     ]
    }
   ],
   "source": [
    "print(\"Data Science From Scratch')\n",
    "'Joel Grus\""
   ]
  },
  {
   "cell_type": "markdown",
   "metadata": {},
   "source": [
    "#### combinar comillas"
   ]
  },
  {
   "cell_type": "code",
   "execution_count": null,
   "metadata": {},
   "outputs": [],
   "source": [
    "print(\"Data Science From 'Scratch'\")\n",
    "print('Joel \"Grus\"')"
   ]
  },
  {
   "cell_type": "markdown",
   "metadata": {},
   "source": [
    "#### Codificar caracteres especiales"
   ]
  },
  {
   "cell_type": "code",
   "execution_count": null,
   "metadata": {},
   "outputs": [],
   "source": [
    "print(\"hola\\tmundo\")\n",
    "print('Data\\nScience\\nFrom\\nScratch')"
   ]
  },
  {
   "cell_type": "code",
   "execution_count": null,
   "metadata": {},
   "outputs": [],
   "source": [
    "print(\"\\\"La gente todavía está loca por Python después de veinticinco años, lo que me cuesta creer.\\\" miguel palin\")\n",
    "print('c:\\\\users\\\\boli\\\\dataScience')"
   ]
  },
  {
   "cell_type": "markdown",
   "metadata": {},
   "source": [
    "#### Formato `raw` (crudo)"
   ]
  },
  {
   "cell_type": "code",
   "execution_count": null,
   "metadata": {},
   "outputs": [],
   "source": [
    "directorio = r'c:\\users\\boli\\dataScience'\n",
    "print(directorio)\n",
    "\n",
    "reg_expresion = r\"^(?:0?[1-9]|1[1-2])([\\-/.])(3[01]|[12][0-9]|0?[1-9])\\1\\d{4}$\" #dd-mm-yyyy\n",
    "print(reg_expresion)"
   ]
  },
  {
   "cell_type": "markdown",
   "metadata": {},
   "source": [
    "#### Tres dobles comillas"
   ]
  },
  {
   "cell_type": "code",
   "execution_count": null,
   "metadata": {},
   "outputs": [],
   "source": [
    "# Multilinea\n",
    "string_multilinea = \"\"\"Esta es la primera linea\n",
    "esta es la      segund linea \n",
    "esta es la recera linea\n",
    "...\n",
    "esta es la n linea\"\"\"\n",
    "print(string_multilinea)"
   ]
  },
  {
   "cell_type": "markdown",
   "metadata": {},
   "source": [
    "#### Descripcion de una funcion"
   ]
  },
  {
   "cell_type": "code",
   "execution_count": null,
   "metadata": {},
   "outputs": [],
   "source": [
    "def agrega_prefijo(mensaje, prefijo='#'):\n",
    "    \"\"\"Muestra el mensaje con el prefijo que le asignemos, por defecto es # \"\"\"\n",
    "    return print(prefijo+' '+mensaje)\n",
    "\n",
    "agrega_prefijo(\"candidatos\")\n",
    "agrega_prefijo(\"candidatos\", '3')\n",
    "agrega_prefijo('mensaje con prefijo', '4')"
   ]
  },
  {
   "cell_type": "markdown",
   "metadata": {},
   "source": [
    "#### Caracteristica `f-string`"
   ]
  },
  {
   "cell_type": "code",
   "execution_count": null,
   "metadata": {},
   "outputs": [],
   "source": [
    "primer_nombre = 'Joel'\n",
    "primer_apellido = 'Grus'\n"
   ]
  },
  {
   "cell_type": "markdown",
   "metadata": {},
   "source": [
    "1. concatenando las variables con el signo `+`"
   ]
  },
  {
   "cell_type": "code",
   "execution_count": null,
   "metadata": {},
   "outputs": [],
   "source": [
    "nombre_completo1 = primer_nombre+' '+primer_apellido\n",
    "print(nombre_completo1)"
   ]
  },
  {
   "cell_type": "markdown",
   "metadata": {},
   "source": [
    "2. usando el metodo `format()` del objeto string podemos dar el formato que querramos al momento de mostrar informacion"
   ]
  },
  {
   "cell_type": "code",
   "execution_count": null,
   "metadata": {},
   "outputs": [],
   "source": [
    "nombre_completo2 = '{0} {1}'.format(primer_nombre, primer_apellido)\n",
    "\n",
    "print(nombre_completo2)"
   ]
  },
  {
   "cell_type": "markdown",
   "metadata": {},
   "source": [
    "3. Usando la caracteristica `f-string`"
   ]
  },
  {
   "cell_type": "code",
   "execution_count": null,
   "metadata": {},
   "outputs": [],
   "source": [
    "nombre_completo3 = f'{primer_nombre} {primer_apellido}'\n",
    "print(nombre_completo3)"
   ]
  },
  {
   "cell_type": "markdown",
   "metadata": {},
   "source": [
    "### Segunda parte"
   ]
  },
  {
   "cell_type": "markdown",
   "metadata": {},
   "source": [
    "#### Accediendo argumentos por posición:"
   ]
  },
  {
   "cell_type": "code",
   "execution_count": null,
   "metadata": {},
   "outputs": [],
   "source": [
    "print('{0}, {1}, {2}'.format('a', 'b', 'c'))\n",
    "print('{}, {}, {}'.format('a', 'b', 'c'))\n",
    "print('{2}, {1}, {0}'.format('a', 'b', 'c'))"
   ]
  },
  {
   "cell_type": "markdown",
   "metadata": {},
   "source": [
    "##### Repetir una secuencia de argumentos"
   ]
  },
  {
   "cell_type": "code",
   "execution_count": null,
   "metadata": {},
   "outputs": [],
   "source": [
    "'{0}{1}{0}'.format('abra', 'cad')"
   ]
  },
  {
   "cell_type": "markdown",
   "metadata": {},
   "source": [
    "#### Accediendo argumentos por nombre:"
   ]
  },
  {
   "cell_type": "code",
   "execution_count": null,
   "metadata": {},
   "outputs": [],
   "source": [
    "'Coordenadas: {latitud}, {longitud}'.format(latitud='37.24N', longitud='-115.81W')"
   ]
  },
  {
   "cell_type": "markdown",
   "metadata": {},
   "source": [
    "#### Especificar el signo a mostrar:"
   ]
  },
  {
   "cell_type": "code",
   "execution_count": null,
   "metadata": {},
   "outputs": [],
   "source": [
    "print('{:+f}; {:+f}'.format(3.14, -3.14))  \n",
    "print('{: f}; {: f}'.format(3.14, -3.14)) \n",
    "print('{:-f}; {:-f}'.format(3.14, -3.14))  "
   ]
  },
  {
   "cell_type": "markdown",
   "metadata": {},
   "source": [
    "#### Usando la coma como separador de los miles:"
   ]
  },
  {
   "cell_type": "code",
   "execution_count": null,
   "metadata": {},
   "outputs": [],
   "source": [
    "'{:,}'.format(1234567890)"
   ]
  },
  {
   "cell_type": "markdown",
   "metadata": {},
   "source": [
    "#### Expresar un porcentaje:"
   ]
  },
  {
   "cell_type": "code",
   "execution_count": null,
   "metadata": {},
   "outputs": [],
   "source": [
    "puntos = 19\n",
    "total = 22\n",
    "'Respuesta correcta: {:.1%}'.format(puntos/total) # {:.2%} digitos que queremos mostrar luego de la coma flotante"
   ]
  },
  {
   "cell_type": "markdown",
   "metadata": {},
   "source": [
    "# 7. Excepciones"
   ]
  },
  {
   "cell_type": "markdown",
   "metadata": {},
   "source": [
    "## Parte 1 (Libro)"
   ]
  },
  {
   "cell_type": "code",
   "execution_count": null,
   "metadata": {},
   "outputs": [
    {
     "ename": "ZeroDivisionError",
     "evalue": "division by zero",
     "output_type": "error",
     "traceback": [
      "\u001b[1;31m---------------------------------------------------------------------------\u001b[0m",
      "\u001b[1;31mZeroDivisionError\u001b[0m                         Traceback (most recent call last)",
      "Cell \u001b[1;32mIn [1], line 1\u001b[0m\n\u001b[1;32m----> 1\u001b[0m \u001b[39mprint\u001b[39m(\u001b[39m10\u001b[39;49m\u001b[39m/\u001b[39;49m\u001b[39m0\u001b[39;49m)\n\u001b[0;32m      2\u001b[0m \u001b[39mprint\u001b[39m(\u001b[39m'\u001b[39m\u001b[39msiguiendo el flujo del programa...\u001b[39m\u001b[39m'\u001b[39m)\n",
      "\u001b[1;31mZeroDivisionError\u001b[0m: division by zero"
     ]
    }
   ],
   "source": [
    "print(10/0)\n",
    "print('siguiendo el flujo del programa...')"
   ]
  },
  {
   "cell_type": "markdown",
   "metadata": {},
   "source": [
    "### Bloque `try`"
   ]
  },
  {
   "cell_type": "code",
   "execution_count": null,
   "metadata": {},
   "outputs": [
    {
     "name": "stdout",
     "output_type": "stream",
     "text": [
      "se proceso el finally\n",
      "Cerrar base de datos\n",
      "Cerrar flujo de archivos python\n"
     ]
    },
    {
     "ename": "ZeroDivisionError",
     "evalue": "division by zero",
     "output_type": "error",
     "traceback": [
      "\u001b[1;31m---------------------------------------------------------------------------\u001b[0m",
      "\u001b[1;31mZeroDivisionError\u001b[0m                         Traceback (most recent call last)",
      "Cell \u001b[1;32mIn [2], line 2\u001b[0m\n\u001b[0;32m      1\u001b[0m \u001b[39mtry\u001b[39;00m:\n\u001b[1;32m----> 2\u001b[0m     \u001b[39mprint\u001b[39m(\u001b[39m0\u001b[39;49m\u001b[39m/\u001b[39;49m\u001b[39m0\u001b[39;49m)\n\u001b[0;32m      3\u001b[0m \u001b[39mfinally\u001b[39;00m:\n\u001b[0;32m      4\u001b[0m     \u001b[39mprint\u001b[39m(\u001b[39m'\u001b[39m\u001b[39mse proceso el finally\u001b[39m\u001b[39m'\u001b[39m)\n",
      "\u001b[1;31mZeroDivisionError\u001b[0m: division by zero"
     ]
    }
   ],
   "source": [
    "try:\n",
    "    print(0/0)\n",
    "finally:\n",
    "    print('se proceso el finally')\n",
    "    print('Cerrar base de datos')\n",
    "    print('Cerrar flujo de archivos python')\n",
    "print('siguiendo el flujo del programa...')"
   ]
  },
  {
   "cell_type": "markdown",
   "metadata": {},
   "source": [
    "### Bloque `except`"
   ]
  },
  {
   "cell_type": "code",
   "execution_count": null,
   "metadata": {},
   "outputs": [
    {
     "name": "stdout",
     "output_type": "stream",
     "text": [
      "se proceso la excepcion\n",
      "log: se produjo una excepcion de division entre cero\n",
      "siguiendo el flujo del programa...\n"
     ]
    }
   ],
   "source": [
    "try:\n",
    "    print(0/0)\n",
    "except ZeroDivisionError:\n",
    "    print('se proceso la excepcion')\n",
    "    print('log: se produjo una excepcion de division entre cero')\n",
    "print('siguiendo el flujo del programa...')"
   ]
  },
  {
   "cell_type": "markdown",
   "metadata": {},
   "source": [
    "## Parte 2"
   ]
  },
  {
   "cell_type": "markdown",
   "metadata": {},
   "source": [
    "* Todas las excepciones built-in (incorporadas) que trae python y sus jerarquias\n",
    "* Nombrar a la excepcion para mostrarla en el bloque `except`\n",
    "* Manejo de excepciones por jerarquia\n",
    "* Respetar la jerarquia de las excepciones\n",
    "* Bloques `else` y `finally`"
   ]
  },
  {
   "cell_type": "markdown",
   "metadata": {},
   "source": [
    "### [Lista de excepciones built-in (incorporadas) de python 3.10](https://docs.python.org/3.10/library/exceptions.html#exception-hierarchy)"
   ]
  },
  {
   "cell_type": "markdown",
   "metadata": {},
   "source": [
    "BaseException\n",
    " +-- SystemExit\n",
    " +-- KeyboardInterrupt\n",
    " +-- GeneratorExit\n",
    " +-- Exception\n",
    "      +-- StopIteration\n",
    "      +-- StopAsyncIteration\n",
    "      +-- ArithmeticError\n",
    "      |    +-- FloatingPointError\n",
    "      |    +-- OverflowError\n",
    "      |    +-- ZeroDivisionError\n",
    "      +-- AssertionError\n",
    "      +-- AttributeError\n",
    "      +-- BufferError\n",
    "      +-- EOFError\n",
    "      +-- ImportError\n",
    "      |    +-- ModuleNotFoundError\n",
    "      +-- LookupError\n",
    "      |    +-- IndexError\n",
    "      |    +-- KeyError\n",
    "      +-- MemoryError\n",
    "      +-- NameError\n",
    "      |    +-- UnboundLocalError\n",
    "      +-- OSError\n",
    "      |    +-- BlockingIOError\n",
    "      |    +-- ChildProcessError\n",
    "      |    +-- ConnectionError\n",
    "      |    |    +-- BrokenPipeError\n",
    "      |    |    +-- ConnectionAbortedError\n",
    "      |    |    +-- ConnectionRefusedError\n",
    "      |    |    +-- ConnectionResetError\n",
    "      |    +-- FileExistsError\n",
    "      |    +-- FileNotFoundError\n",
    "      |    +-- InterruptedError\n",
    "      |    +-- IsADirectoryError\n",
    "      |    +-- NotADirectoryError\n",
    "      |    +-- PermissionError\n",
    "      |    +-- ProcessLookupError\n",
    "      |    +-- TimeoutError\n",
    "      +-- ReferenceError\n",
    "      +-- RuntimeError\n",
    "      |    +-- NotImplementedError\n",
    "      |    +-- RecursionError\n",
    "      +-- SyntaxError\n",
    "      |    +-- IndentationError\n",
    "      |         +-- TabError\n",
    "      +-- SystemError\n",
    "      +-- TypeError\n",
    "      +-- ValueError\n",
    "      |    +-- UnicodeError\n",
    "      |         +-- UnicodeDecodeError\n",
    "      |         +-- UnicodeEncodeError\n",
    "      |         +-- UnicodeTranslateError\n",
    "      +-- Warning\n",
    "           +-- DeprecationWarning\n",
    "           +-- PendingDeprecationWarning\n",
    "           +-- RuntimeWarning\n",
    "           +-- SyntaxWarning\n",
    "           +-- UserWarning\n",
    "           +-- FutureWarning\n",
    "           +-- ImportWarning\n",
    "           +-- UnicodeWarning\n",
    "           +-- BytesWarning\n",
    "           +-- EncodingWarning\n",
    "           +-- ResourceWarning"
   ]
  },
  {
   "cell_type": "markdown",
   "metadata": {},
   "source": [
    "![Diagrama: Jerarquia de excepciones en python](./resources/img/Jerarquia%20de%20excepciones.jpg)"
   ]
  },
  {
   "cell_type": "markdown",
   "metadata": {},
   "source": [
    "### Nombrar la excepcion con `as`"
   ]
  },
  {
   "cell_type": "code",
   "execution_count": null,
   "metadata": {},
   "outputs": [
    {
     "ename": "ZeroDivisionError",
     "evalue": "division by zero",
     "output_type": "error",
     "traceback": [
      "\u001b[1;31m---------------------------------------------------------------------------\u001b[0m",
      "\u001b[1;31mZeroDivisionError\u001b[0m                         Traceback (most recent call last)",
      "Cell \u001b[1;32mIn [4], line 4\u001b[0m\n\u001b[0;32m      2\u001b[0m a \u001b[39m=\u001b[39m \u001b[39m10\u001b[39m\n\u001b[0;32m      3\u001b[0m b \u001b[39m=\u001b[39m \u001b[39m0\u001b[39m\n\u001b[1;32m----> 4\u001b[0m resultado\u001b[39m=\u001b[39ma\u001b[39m/\u001b[39;49mb\n\u001b[0;32m      5\u001b[0m \u001b[39mprint\u001b[39m(\u001b[39mf\u001b[39m\u001b[39m'\u001b[39m\u001b[39mResultado: \u001b[39m\u001b[39m{\u001b[39;00mresultado\u001b[39m}\u001b[39;00m\u001b[39m'\u001b[39m)\n",
      "\u001b[1;31mZeroDivisionError\u001b[0m: division by zero"
     ]
    }
   ],
   "source": [
    "resultado = None\n",
    "a = 10\n",
    "b = 0\n",
    "resultado=a/b\n",
    "print(f'Resultado: {resultado}')"
   ]
  },
  {
   "cell_type": "code",
   "execution_count": null,
   "metadata": {},
   "outputs": [
    {
     "name": "stdout",
     "output_type": "stream",
     "text": [
      "se proceso la excepcion: division by zero\n",
      "log: se produjo una excepcion de division entre cero\n",
      "siguiendo el flujo del programa...\n",
      "Resultado: None\n"
     ]
    }
   ],
   "source": [
    "resultado = None\n",
    "a = 10\n",
    "b = 0\n",
    "try:\n",
    "    resultado=a/b                \n",
    "except ZeroDivisionError as e:\n",
    "    print(f'se proceso la excepcion: {e}')\n",
    "    print('log: se produjo una excepcion de division entre cero')\n",
    "print('siguiendo el flujo del programa...')\n",
    "print(f'Resultado: {resultado}')"
   ]
  },
  {
   "cell_type": "markdown",
   "metadata": {},
   "source": [
    "### Manejo de excepciones por jerarquia"
   ]
  },
  {
   "cell_type": "markdown",
   "metadata": {},
   "source": [
    "Clases hijas de `BaseException`\n",
    "+ SystemExit\n",
    "+ KeyboardInterrupt\n",
    "+ GeneratorExit\n",
    "+ Exception"
   ]
  },
  {
   "cell_type": "code",
   "execution_count": null,
   "metadata": {},
   "outputs": [
    {
     "ename": "ValueError",
     "evalue": "invalid literal for int() with base 10: 'a'",
     "output_type": "error",
     "traceback": [
      "\u001b[1;31m---------------------------------------------------------------------------\u001b[0m",
      "\u001b[1;31mValueError\u001b[0m                                Traceback (most recent call last)",
      "Cell \u001b[1;32mIn [6], line 3\u001b[0m\n\u001b[0;32m      1\u001b[0m resultado \u001b[39m=\u001b[39m \u001b[39mNone\u001b[39;00m\n\u001b[0;32m      2\u001b[0m a \u001b[39m=\u001b[39m \u001b[39m10\u001b[39m\n\u001b[1;32m----> 3\u001b[0m b \u001b[39m=\u001b[39m \u001b[39mint\u001b[39;49m(\u001b[39m'\u001b[39;49m\u001b[39ma\u001b[39;49m\u001b[39m'\u001b[39;49m)\n\u001b[0;32m      4\u001b[0m \u001b[39mtry\u001b[39;00m:\n\u001b[0;32m      5\u001b[0m     resultado\u001b[39m=\u001b[39ma\u001b[39m/\u001b[39mb \n",
      "\u001b[1;31mValueError\u001b[0m: invalid literal for int() with base 10: 'a'"
     ]
    }
   ],
   "source": [
    "resultado = None\n",
    "a = 10\n",
    "b = int('a')\n",
    "try:\n",
    "    resultado=a/b \n",
    "except ZeroDivisionError as e: \n",
    "    print(f'se proceso la excepcion: {e}') \n",
    "    print('log: se produjo una excepcion de division entre cero') \n",
    "print('siguiendo el flujo del programa...')\n",
    "print(f'Resultado: {resultado}')"
   ]
  },
  {
   "cell_type": "code",
   "execution_count": null,
   "metadata": {},
   "outputs": [
    {
     "name": "stdout",
     "output_type": "stream",
     "text": [
      "se proceso la excepcion: invalid literal for int() with base 10: 'a'\n",
      "log: se produjo una excepcion de error de valor\n",
      "siguiendo el flujo del programa...\n",
      "Resultado: None\n"
     ]
    }
   ],
   "source": [
    "resultado = None\n",
    "a = 10\n",
    "try:    \n",
    "    b = int('a')    \n",
    "    resultado=a/b # ValueError\n",
    "except ZeroDivisionError as e: \n",
    "    print(f'se proceso la excepcion: {e}') \n",
    "    print('log: se produjo una excepcion de division entre cero') \n",
    "except ValueError as e:\n",
    "    print(f'se proceso la excepcion: {e}') \n",
    "    print('log: se produjo una excepcion de error de valor')\n",
    "print('siguiendo el flujo del programa...')\n",
    "print(f'Resultado: {resultado}')"
   ]
  },
  {
   "cell_type": "code",
   "execution_count": null,
   "metadata": {},
   "outputs": [
    {
     "name": "stdout",
     "output_type": "stream",
     "text": [
      "se proceso la excepcion: invalid literal for int() with base 10: 'a'\n",
      "log: se produjo una excepcion\n",
      "siguiendo el flujo del programa...\n",
      "Resultado: None\n"
     ]
    }
   ],
   "source": [
    "resultado = None\n",
    "a = 10\n",
    "try:\n",
    "    b = int('a')\n",
    "    resultado=a/b \n",
    "except ZeroDivisionError as e: \n",
    "    print(f'se proceso la excepcion: {e}') \n",
    "    print('log: se produjo una excepcion de division entre cero') \n",
    "except Exception as e:  \n",
    "    print(f'se proceso la excepcion: {e}') \n",
    "    print('log: se produjo una excepcion') \n",
    "print('siguiendo el flujo del programa...')\n",
    "print(f'Resultado: {resultado}')"
   ]
  },
  {
   "cell_type": "markdown",
   "metadata": {},
   "source": [
    "### importancia de respetar la jerarquia de las excepciones"
   ]
  },
  {
   "cell_type": "code",
   "execution_count": null,
   "metadata": {},
   "outputs": [
    {
     "name": "stdout",
     "output_type": "stream",
     "text": [
      "se proceso la excepcion: unsupported operand type(s) for /: 'int' and 'str', <class 'TypeError'>\n",
      "log: se produjo una excepcion\n",
      "siguiendo el flujo del programa...\n",
      "Resultado: None\n"
     ]
    }
   ],
   "source": [
    "resultado = None\n",
    "a = 10\n",
    "b = '0'\n",
    "try:\n",
    "    resultado=a/b \n",
    "except ZeroDivisionError as e: \n",
    "    print(f'se proceso la excepcion: {e}') \n",
    "    print('log: se produjo una excepcion de division entre cero') \n",
    "except ValueError as e:\n",
    "    print(f'se proceso la excepcion: {e}') \n",
    "    print('log: se produjo una excepcion de error de valor')\n",
    "except Exception as e:  \n",
    "    print(f'se proceso la excepcion: {e}, {type(e)}') \n",
    "    print('log: se produjo una excepcion')\n",
    "print('siguiendo el flujo del programa...')\n",
    "print(f'Resultado: {resultado}')"
   ]
  },
  {
   "cell_type": "code",
   "execution_count": null,
   "metadata": {},
   "outputs": [
    {
     "name": "stdout",
     "output_type": "stream",
     "text": [
      "se proceso la excepcion: division by zero, <class 'ZeroDivisionError'>\n",
      "log: se produjo una excepcion\n",
      "siguiendo el flujo del programa...\n",
      "Resultado: None\n"
     ]
    }
   ],
   "source": [
    "resultado = None\n",
    "a = 10\n",
    "b = 0\n",
    "try:\n",
    "    resultado=a/b # ValueError\n",
    "except Exception as e:  \n",
    "    print(f'se proceso la excepcion: {e}, {type(e)}') \n",
    "    print('log: se produjo una excepcion')\n",
    "except ZeroDivisionError as e: \n",
    "    print(f'se proceso la excepcion: {e}') \n",
    "    print('log: se produjo una excepcion de division entre cero') \n",
    "except ValueError as e:\n",
    "    print(f'se proceso la excepcion: {e}') \n",
    "    print('log: se produjo una excepcion de error de valor')\n",
    "print('siguiendo el flujo del programa...')\n",
    "print(f'Resultado: {resultado}')"
   ]
  },
  {
   "cell_type": "markdown",
   "metadata": {},
   "source": [
    "### Bloque `else`"
   ]
  },
  {
   "cell_type": "code",
   "execution_count": null,
   "metadata": {},
   "outputs": [
    {
     "name": "stdout",
     "output_type": "stream",
     "text": [
      "se proceso la excepcion: division by zero\n",
      "log: se produjo una excepcion de division entre cero\n",
      "siguiendo el flujo del programa...\n",
      "Resultado: None\n"
     ]
    }
   ],
   "source": [
    "resultado = None\n",
    "a = 10\n",
    "b = 0\n",
    "try:\n",
    "    resultado=a/b # ValueError\n",
    "except ZeroDivisionError as e: \n",
    "    print(f'se proceso la excepcion: {e}') \n",
    "    print('log: se produjo una excepcion de division entre cero') \n",
    "except ValueError as e:\n",
    "    print(f'se proceso la excepcion: {e}') \n",
    "    print('log: se produjo una excepcion de error de valor')\n",
    "except Exception as e:  \n",
    "    print(f'se proceso la excepcion: {e}, {type(e)}') \n",
    "    print('log: se produjo una excepcion')\n",
    "else:\n",
    "    print('se proceso el else')\n",
    "    print('Todo salió bien')\n",
    "    \n",
    "print('siguiendo el flujo del programa...')\n",
    "print(f'Resultado: {resultado}')"
   ]
  },
  {
   "cell_type": "markdown",
   "metadata": {},
   "source": [
    "### Bloque `finally`"
   ]
  },
  {
   "cell_type": "code",
   "execution_count": null,
   "metadata": {},
   "outputs": [
    {
     "name": "stdout",
     "output_type": "stream",
     "text": [
      "se proceso la excepcion: division by zero\n",
      "log: se produjo una excepcion de division entre cero\n",
      "se proceso el finally\n",
      "Cerrar base de datos\n",
      "Cerrar flujo de archivos python\n",
      "siguiendo el flujo del programa...\n",
      "Resultado: None\n"
     ]
    }
   ],
   "source": [
    "resultado = None\n",
    "a = 10\n",
    "b = 0\n",
    "try:\n",
    "    resultado=a/b # ValueError\n",
    "except ZeroDivisionError as e: \n",
    "    print(f'se proceso la excepcion: {e}') \n",
    "    print('log: se produjo una excepcion de division entre cero') \n",
    "except ValueError as e:\n",
    "    print(f'se proceso la excepcion: {e}') \n",
    "    print('log: se produjo una excepcion de error de valor')\n",
    "except Exception as e:  \n",
    "    print(f'se proceso la excepcion: {e}, {type(e)}') \n",
    "    print('log: se produjo una excepcion')\n",
    "else:\n",
    "    print('se proceso el else')\n",
    "    print('Todo salió bien')\n",
    "finally:\n",
    "    print('se proceso el finally')\n",
    "    print('Cerrar base de datos')\n",
    "    print('Cerrar flujo de archivos python')\n",
    "print('siguiendo el flujo del programa...')\n",
    "print(f'Resultado: {resultado}')"
   ]
  }
 ],
 "metadata": {
  "kernelspec": {
   "display_name": "Python 3.10.7 ('entorno_virtual': venv)",
   "language": "python",
   "name": "python3"
  },
  "language_info": {
   "codemirror_mode": {
    "name": "ipython",
    "version": 3
   },
   "file_extension": ".py",
   "mimetype": "text/x-python",
   "name": "python",
   "nbconvert_exporter": "python",
   "pygments_lexer": "ipython3",
   "version": "3.12.4"
  },
  "orig_nbformat": 4,
  "vscode": {
   "interpreter": {
    "hash": "006ec0ad64e94af87791928dbb6518b2c51b542b2f96ee3b5a21a6f41f310398"
   }
  }
 },
 "nbformat": 4,
 "nbformat_minor": 2
}
