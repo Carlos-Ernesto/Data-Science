{
 "cells": [
  {
   "cell_type": "markdown",
   "metadata": {},
   "source": [
    "# 3. Experiencia y salarios"
   ]
  },
  {
   "cell_type": "markdown",
   "metadata": {},
   "source": [
    "### Datos: **Conjunto** de `salarios_y_experiencia` de los usuarios (Anónima)"
   ]
  },
  {
   "cell_type": "code",
   "execution_count": 2,
   "metadata": {},
   "outputs": [],
   "source": [
    "# salarios_y_experiencia = [ (salarios, años_experiencia),...,(salarios, años_experiencia) ]\n",
    "salarios_y_experiencia = [(83000, 8.7), (88000, 8.1),\n",
    "                          (48000, 0.7), (76000, 6),\n",
    "                          (69000, 6.5), (76000, 7.5),\n",
    "                          (60000, 2.5), (83000, 10),\n",
    "                          (48000, 1.9), (63000, 4.2)]"
   ]
  },
  {
   "cell_type": "markdown",
   "metadata": {},
   "source": [
    "### Salarios por años de experiencia (Grafico)"
   ]
  },
  {
   "cell_type": "markdown",
   "metadata": {},
   "source": [
    "![image.png](data:image/png;base64,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)"
   ]
  },
  {
   "cell_type": "markdown",
   "metadata": {},
   "source": [
    "### ¿Cúal es el `salario` promedio para cada `experiencia`?"
   ]
  },
  {
   "cell_type": "code",
   "execution_count": 3,
   "metadata": {},
   "outputs": [],
   "source": [
    "from collections import defaultdict\n",
    "\n",
    "# slario_por_experiencia = {experiencia:[salarios],...experiencia:[salarios]}\n",
    "salario_por_experiencia = defaultdict(list)\n",
    "\n",
    "for salario, experiencia in salarios_y_experiencia:\n",
    "    salario_por_experiencia[experiencia].append(salario)\n",
    "\n",
    "# promedio_del_salario_por_experiencia = {experiencia : salario_primedio}\n",
    "promedio_del_salario_por_experiencia = { experiencia : sum(salario)/len(salario)\n",
    "                                         for experiencia, salario in salario_por_experiencia.items()\n",
    "}"
   ]
  },
  {
   "cell_type": "code",
   "execution_count": 14,
   "metadata": {},
   "outputs": [
    {
     "name": "stdout",
     "output_type": "stream",
     "text": [
      "defaultdict(<class 'list'>, {8.7: [83000], 8.1: [88000], 0.7: [48000], 6: [76000], 6.5: [69000], 7.5: [76000], 2.5: [60000], 10: [83000], 1.9: [48000], 4.2: [63000]})\n",
      "{8.7: 83000.0, 8.1: 88000.0, 0.7: 48000.0, 6: 76000.0, 6.5: 69000.0, 7.5: 76000.0, 2.5: 60000.0, 10: 83000.0, 1.9: 48000.0, 4.2: 63000.0}\n"
     ]
    }
   ],
   "source": [
    "salary_for_experience = defaultdict(list)\n",
    "for salary, experience in salarios_y_experiencia:\n",
    "    salary_for_experience[experience].append(salary)\n",
    "\n",
    "print(salary_for_experience)\n",
    "\n",
    "mean_salary_for_experience = {experience : sum(salary)/len(salary)\n",
    "                              for experience, salary in salary_for_experience.items()}\n",
    "\n",
    "print(mean_salary_for_experience)"
   ]
  },
  {
   "cell_type": "code",
   "execution_count": 15,
   "metadata": {},
   "outputs": [
    {
     "data": {
      "text/plain": [
       "{8.7: 83000.0,\n",
       " 8.1: 88000.0,\n",
       " 0.7: 48000.0,\n",
       " 6: 76000.0,\n",
       " 6.5: 69000.0,\n",
       " 7.5: 76000.0,\n",
       " 2.5: 60000.0,\n",
       " 10: 83000.0,\n",
       " 1.9: 48000.0,\n",
       " 4.2: 63000.0}"
      ]
     },
     "execution_count": 15,
     "metadata": {},
     "output_type": "execute_result"
    }
   ],
   "source": [
    "promedio_del_salario_por_experiencia"
   ]
  },
  {
   "cell_type": "markdown",
   "metadata": {},
   "source": [
    "### ¿Cómo hacemos que sean utiles los años de experiencia?"
   ]
  },
  {
   "cell_type": "code",
   "execution_count": 16,
   "metadata": {},
   "outputs": [],
   "source": [
    "def cubo_de_experiencia(anio_de_experiencia):\n",
    "    if anio_de_experiencia < 2:\n",
    "        return 'menor a dos años'\n",
    "    elif anio_de_experiencia < 5:\n",
    "        return 'entre dos y cinco años'\n",
    "    else:\n",
    "        return 'más de cinco años'"
   ]
  },
  {
   "cell_type": "code",
   "execution_count": 25,
   "metadata": {},
   "outputs": [],
   "source": [
    "def categoria_experiencia(annos_experiencia):\n",
    "    if annos_experiencia >= 0 and annos_experiencia < 2:\n",
    "        return \"menor a dos años\"\n",
    "    elif annos_experiencia >= 2 and annos_experiencia < 5:\n",
    "        return \"entre dos y cinco años\"\n",
    "    else:\n",
    "        return \"más de cinco años\""
   ]
  },
  {
   "cell_type": "markdown",
   "metadata": {},
   "source": [
    "### Agrupando campos"
   ]
  },
  {
   "cell_type": "code",
   "execution_count": 33,
   "metadata": {},
   "outputs": [],
   "source": [
    "# salario_por_cubo_de_experiencia = {experiencia: [salario],..., experiencia: [salario]}\n",
    "salario_por_cubo_de_experiencia = defaultdict(list)\n",
    "\n",
    "for salario, experiencia in salarios_y_experiencia:\n",
    "    cubo = cubo_de_experiencia(experiencia)\n",
    "    salario_por_cubo_de_experiencia[cubo].append(salario)"
   ]
  },
  {
   "cell_type": "code",
   "execution_count": 26,
   "metadata": {},
   "outputs": [
    {
     "data": {
      "text/plain": [
       "defaultdict(list,\n",
       "            {'más de cinco años': [83000, 88000, 76000, 69000, 76000, 83000],\n",
       "             'menor a dos años': [48000, 48000],\n",
       "             'entre dos y cinco años': [60000, 63000]})"
      ]
     },
     "execution_count": 26,
     "metadata": {},
     "output_type": "execute_result"
    }
   ],
   "source": [
    "salario_categoria_experiencia = defaultdict(list)\n",
    "\n",
    "for salario, experiencia in salarios_y_experiencia:\n",
    "    categoria = categoria_experiencia(experiencia)\n",
    "    salario_categoria_experiencia[categoria].append(salario)\n",
    "\n",
    "salario_categoria_experiencia"
   ]
  },
  {
   "cell_type": "code",
   "execution_count": 10,
   "metadata": {},
   "outputs": [
    {
     "data": {
      "text/plain": [
       "dict_items([('más de cinco años', [83000, 88000, 76000, 69000, 76000, 83000]), ('menor a dos años', [48000, 48000]), ('entre dos y cinco años', [60000, 63000])])"
      ]
     },
     "execution_count": 10,
     "metadata": {},
     "output_type": "execute_result"
    }
   ],
   "source": [
    "salario_por_cubo_de_experiencia"
   ]
  },
  {
   "cell_type": "markdown",
   "metadata": {},
   "source": [
    "#### comparacion con `salario_por_experiencia`"
   ]
  },
  {
   "cell_type": "code",
   "execution_count": 9,
   "metadata": {},
   "outputs": [
    {
     "data": {
      "text/plain": [
       "defaultdict(list,\n",
       "            {8.7: [83000],\n",
       "             8.1: [88000],\n",
       "             0.7: [48000],\n",
       "             6: [76000],\n",
       "             6.5: [69000],\n",
       "             7.5: [76000],\n",
       "             2.5: [60000],\n",
       "             10: [83000],\n",
       "             1.9: [48000],\n",
       "             4.2: [63000]})"
      ]
     },
     "execution_count": 9,
     "metadata": {},
     "output_type": "execute_result"
    }
   ],
   "source": [
    "salario_por_experiencia"
   ]
  },
  {
   "cell_type": "markdown",
   "metadata": {},
   "source": [
    "### Promedio salarial"
   ]
  },
  {
   "cell_type": "code",
   "execution_count": 34,
   "metadata": {},
   "outputs": [],
   "source": [
    "# promedio_salarial_por_cubo = [rango_experiencia : promedio_salarial]\n",
    "\n",
    "promedio_salarial_por_cubo = {\n",
    "    rango_experiencia : sum(salario)/len(salario)\n",
    "    for rango_experiencia,salario in salario_por_cubo_de_experiencia.items()\n",
    "}"
   ]
  },
  {
   "cell_type": "code",
   "execution_count": 29,
   "metadata": {},
   "outputs": [
    {
     "data": {
      "text/plain": [
       "{'más de cinco años': 79166.66666666667,\n",
       " 'menor a dos años': 48000.0,\n",
       " 'entre dos y cinco años': 61500.0}"
      ]
     },
     "execution_count": 29,
     "metadata": {},
     "output_type": "execute_result"
    }
   ],
   "source": [
    "promedio_salario_categoria = {\n",
    "    categoria_experiencia : sum(salario) / len(salario)\n",
    "    for categoria_experiencia, salario in salario_categoria_experiencia.items()}\n",
    "\n",
    "promedio_salario_categoria"
   ]
  },
  {
   "cell_type": "code",
   "execution_count": 35,
   "metadata": {},
   "outputs": [
    {
     "data": {
      "text/plain": [
       "{'más de cinco años': 79166.66666666667,\n",
       " 'menor a dos años': 48000.0,\n",
       " 'entre dos y cinco años': 61500.0}"
      ]
     },
     "execution_count": 35,
     "metadata": {},
     "output_type": "execute_result"
    }
   ],
   "source": [
    "promedio_salarial_por_cubo"
   ]
  },
  {
   "cell_type": "markdown",
   "metadata": {},
   "source": [
    "### porcentaje de diferencia"
   ]
  },
  {
   "cell_type": "markdown",
   "metadata": {},
   "source": [
    "#### porcentaje de diferencia = $|\\frac{valor nuevo - valor anterior} {valor anterior}| \\times 100 $"
   ]
  },
  {
   "cell_type": "code",
   "execution_count": 36,
   "metadata": {},
   "outputs": [
    {
     "data": {
      "text/plain": [
       "64.93055555555557"
      ]
     },
     "execution_count": 36,
     "metadata": {},
     "output_type": "execute_result"
    }
   ],
   "source": [
    "ganancia = (promedio_salarial_por_cubo['más de cinco años']-promedio_salarial_por_cubo['menor a dos años'])/promedio_salarial_por_cubo['menor a dos años']\n",
    "ganancia*100"
   ]
  }
 ],
 "metadata": {
  "kernelspec": {
   "display_name": "Python 3.10.6 64-bit",
   "language": "python",
   "name": "python3"
  },
  "language_info": {
   "codemirror_mode": {
    "name": "ipython",
    "version": 3
   },
   "file_extension": ".py",
   "mimetype": "text/x-python",
   "name": "python",
   "nbconvert_exporter": "python",
   "pygments_lexer": "ipython3",
   "version": "3.12.4"
  },
  "orig_nbformat": 4,
  "vscode": {
   "interpreter": {
    "hash": "ca6185fe93b201117d87cd640b1f0f074e4d1cec07aef5479605d4b4c4d0cd14"
   }
  }
 },
 "nbformat": 4,
 "nbformat_minor": 2
}
