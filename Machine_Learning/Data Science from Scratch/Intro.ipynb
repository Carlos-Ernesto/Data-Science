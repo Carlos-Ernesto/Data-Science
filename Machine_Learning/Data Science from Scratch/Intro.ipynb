{
 "cells": [
  {
   "cell_type": "code",
   "execution_count": 1,
   "metadata": {},
   "outputs": [],
   "source": [
    "def funcion_para_comparar(var_a = 2):\n",
    "    \"\"\"Esta función compara dos variables\"\"\"\n",
    "    var_b = 3\n",
    "    if(var_a == var_b and var_b != var_a):\n",
    "        print(\"mensale <=> está bien\")"
   ]
  },
  {
   "cell_type": "markdown",
   "metadata": {},
   "source": [
    "# preview markdown\n",
    "**hola**\n",
    "`import libreria`\n",
    "'import libreria'\n",
    "1. first\n",
    "2. second\n",
    "3. third\n",
    "\n",
    "\n",
    "## segundo título\n",
    "### tercer título"
   ]
  }
 ],
 "metadata": {
  "kernelspec": {
   "display_name": "Python 3",
   "language": "python",
   "name": "python3"
  },
  "language_info": {
   "codemirror_mode": {
    "name": "ipython",
    "version": 3
   },
   "file_extension": ".py",
   "mimetype": "text/x-python",
   "name": "python",
   "nbconvert_exporter": "python",
   "pygments_lexer": "ipython3",
   "version": "3.12.0"
  }
 },
 "nbformat": 4,
 "nbformat_minor": 2
}
