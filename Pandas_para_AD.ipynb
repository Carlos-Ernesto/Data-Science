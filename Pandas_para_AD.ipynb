{
 "cells": [
  {
   "cell_type": "code",
   "execution_count": 1,
   "metadata": {},
   "outputs": [],
   "source": [
    "import pandas as pd \n",
    "import numpy as np"
   ]
  },
  {
   "cell_type": "code",
   "execution_count": 7,
   "metadata": {},
   "outputs": [],
   "source": [
    "#Creación de set de datos con números aleatorios\n",
    "np.random.seed(0)\n",
    "\n",
    "datos1 = np.random.rand(20)*10\n",
    "datos2 = np.random.rand(20)*10"
   ]
  },
  {
   "cell_type": "code",
   "execution_count": 14,
   "metadata": {},
   "outputs": [],
   "source": [
    "#Crear un lista de índices\n",
    "alumnos = []\n",
    "for i in range(20):\n",
    "    alumnos.append('alumno_'+ str(i))"
   ]
  },
  {
   "cell_type": "code",
   "execution_count": 16,
   "metadata": {},
   "outputs": [],
   "source": [
    "#Creación de un data frame\n",
    "data = pd.DataFrame({\n",
    "    \"Economía\": datos1,\n",
    "    \"Administración\": datos2\n",
    "}, index= alumnos)"
   ]
  },
  {
   "cell_type": "code",
   "execution_count": 11,
   "metadata": {},
   "outputs": [
    {
     "data": {
      "text/plain": [
       "(20, 2)"
      ]
     },
     "execution_count": 11,
     "metadata": {},
     "output_type": "execute_result"
    }
   ],
   "source": [
    "#Forma del data frame\n",
    "data.shape"
   ]
  },
  {
   "cell_type": "code",
   "execution_count": 17,
   "metadata": {},
   "outputs": [
    {
     "data": {
      "text/html": [
       "<div>\n",
       "<style scoped>\n",
       "    .dataframe tbody tr th:only-of-type {\n",
       "        vertical-align: middle;\n",
       "    }\n",
       "\n",
       "    .dataframe tbody tr th {\n",
       "        vertical-align: top;\n",
       "    }\n",
       "\n",
       "    .dataframe thead th {\n",
       "        text-align: right;\n",
       "    }\n",
       "</style>\n",
       "<table border=\"1\" class=\"dataframe\">\n",
       "  <thead>\n",
       "    <tr style=\"text-align: right;\">\n",
       "      <th></th>\n",
       "      <th>Economía</th>\n",
       "      <th>Administración</th>\n",
       "    </tr>\n",
       "  </thead>\n",
       "  <tbody>\n",
       "    <tr>\n",
       "      <th>alumno_0</th>\n",
       "      <td>5.488135</td>\n",
       "      <td>9.786183</td>\n",
       "    </tr>\n",
       "    <tr>\n",
       "      <th>alumno_1</th>\n",
       "      <td>7.151894</td>\n",
       "      <td>7.991586</td>\n",
       "    </tr>\n",
       "    <tr>\n",
       "      <th>alumno_2</th>\n",
       "      <td>6.027634</td>\n",
       "      <td>4.614794</td>\n",
       "    </tr>\n",
       "    <tr>\n",
       "      <th>alumno_3</th>\n",
       "      <td>5.448832</td>\n",
       "      <td>7.805292</td>\n",
       "    </tr>\n",
       "    <tr>\n",
       "      <th>alumno_4</th>\n",
       "      <td>4.236548</td>\n",
       "      <td>1.182744</td>\n",
       "    </tr>\n",
       "  </tbody>\n",
       "</table>\n",
       "</div>"
      ],
      "text/plain": [
       "          Economía  Administración\n",
       "alumno_0  5.488135        9.786183\n",
       "alumno_1  7.151894        7.991586\n",
       "alumno_2  6.027634        4.614794\n",
       "alumno_3  5.448832        7.805292\n",
       "alumno_4  4.236548        1.182744"
      ]
     },
     "execution_count": 17,
     "metadata": {},
     "output_type": "execute_result"
    }
   ],
   "source": [
    "#Primeos 5 resultados\n",
    "data.head()"
   ]
  },
  {
   "cell_type": "markdown",
   "metadata": {},
   "source": [
    "Funciones loc & iloc\n",
    "* loc: Retorna los datos filtrados por el índice del dataset\n",
    "* iloc: Retorna los datos filtrados por la posición de los datos"
   ]
  },
  {
   "cell_type": "code",
   "execution_count": 20,
   "metadata": {},
   "outputs": [
    {
     "data": {
      "text/plain": [
       "Economía          5.488135\n",
       "Administración    9.786183\n",
       "Name: alumno_0, dtype: float64"
      ]
     },
     "execution_count": 20,
     "metadata": {},
     "output_type": "execute_result"
    }
   ],
   "source": [
    "data.loc[\"alumno_0\",]"
   ]
  },
  {
   "cell_type": "code",
   "execution_count": 22,
   "metadata": {},
   "outputs": [
    {
     "data": {
      "text/plain": [
       "Economía          5.488135\n",
       "Administración    9.786183\n",
       "Name: alumno_0, dtype: float64"
      ]
     },
     "execution_count": 22,
     "metadata": {},
     "output_type": "execute_result"
    }
   ],
   "source": [
    "data.iloc[0]"
   ]
  },
  {
   "cell_type": "code",
   "execution_count": 24,
   "metadata": {},
   "outputs": [
    {
     "data": {
      "text/html": [
       "<div>\n",
       "<style scoped>\n",
       "    .dataframe tbody tr th:only-of-type {\n",
       "        vertical-align: middle;\n",
       "    }\n",
       "\n",
       "    .dataframe tbody tr th {\n",
       "        vertical-align: top;\n",
       "    }\n",
       "\n",
       "    .dataframe thead th {\n",
       "        text-align: right;\n",
       "    }\n",
       "</style>\n",
       "<table border=\"1\" class=\"dataframe\">\n",
       "  <thead>\n",
       "    <tr style=\"text-align: right;\">\n",
       "      <th></th>\n",
       "      <th>Economía</th>\n",
       "      <th>Administración</th>\n",
       "    </tr>\n",
       "  </thead>\n",
       "  <tbody>\n",
       "    <tr>\n",
       "      <th>alumno_2</th>\n",
       "      <td>6.027634</td>\n",
       "      <td>4.614794</td>\n",
       "    </tr>\n",
       "    <tr>\n",
       "      <th>alumno_3</th>\n",
       "      <td>5.448832</td>\n",
       "      <td>7.805292</td>\n",
       "    </tr>\n",
       "  </tbody>\n",
       "</table>\n",
       "</div>"
      ],
      "text/plain": [
       "          Economía  Administración\n",
       "alumno_2  6.027634        4.614794\n",
       "alumno_3  5.448832        7.805292"
      ]
     },
     "execution_count": 24,
     "metadata": {},
     "output_type": "execute_result"
    }
   ],
   "source": [
    "data.iloc[2:4]"
   ]
  },
  {
   "cell_type": "code",
   "execution_count": 25,
   "metadata": {},
   "outputs": [
    {
     "data": {
      "text/html": [
       "<div>\n",
       "<style scoped>\n",
       "    .dataframe tbody tr th:only-of-type {\n",
       "        vertical-align: middle;\n",
       "    }\n",
       "\n",
       "    .dataframe tbody tr th {\n",
       "        vertical-align: top;\n",
       "    }\n",
       "\n",
       "    .dataframe thead th {\n",
       "        text-align: right;\n",
       "    }\n",
       "</style>\n",
       "<table border=\"1\" class=\"dataframe\">\n",
       "  <thead>\n",
       "    <tr style=\"text-align: right;\">\n",
       "      <th></th>\n",
       "      <th>Economía</th>\n",
       "      <th>Administración</th>\n",
       "    </tr>\n",
       "  </thead>\n",
       "  <tbody>\n",
       "    <tr>\n",
       "      <th>alumno_2</th>\n",
       "      <td>6.027634</td>\n",
       "      <td>4.614794</td>\n",
       "    </tr>\n",
       "    <tr>\n",
       "      <th>alumno_8</th>\n",
       "      <td>9.636628</td>\n",
       "      <td>5.218483</td>\n",
       "    </tr>\n",
       "  </tbody>\n",
       "</table>\n",
       "</div>"
      ],
      "text/plain": [
       "          Economía  Administración\n",
       "alumno_2  6.027634        4.614794\n",
       "alumno_8  9.636628        5.218483"
      ]
     },
     "execution_count": 25,
     "metadata": {},
     "output_type": "execute_result"
    }
   ],
   "source": [
    "data.iloc[[2,8]]"
   ]
  },
  {
   "cell_type": "code",
   "execution_count": 28,
   "metadata": {},
   "outputs": [
    {
     "data": {
      "text/plain": [
       "alumno_0     True\n",
       "alumno_1     True\n",
       "alumno_2     True\n",
       "alumno_3     True\n",
       "alumno_4    False\n",
       "Name: Economía, dtype: bool"
      ]
     },
     "execution_count": 28,
     "metadata": {},
     "output_type": "execute_result"
    }
   ],
   "source": [
    "#Filtros condicionales\n",
    "filtro1 = data.Economía > 5\n",
    "filtro1.head()"
   ]
  },
  {
   "cell_type": "code",
   "execution_count": 37,
   "metadata": {},
   "outputs": [
    {
     "data": {
      "text/html": [
       "<div>\n",
       "<style scoped>\n",
       "    .dataframe tbody tr th:only-of-type {\n",
       "        vertical-align: middle;\n",
       "    }\n",
       "\n",
       "    .dataframe tbody tr th {\n",
       "        vertical-align: top;\n",
       "    }\n",
       "\n",
       "    .dataframe thead th {\n",
       "        text-align: right;\n",
       "    }\n",
       "</style>\n",
       "<table border=\"1\" class=\"dataframe\">\n",
       "  <thead>\n",
       "    <tr style=\"text-align: right;\">\n",
       "      <th></th>\n",
       "      <th>Economía</th>\n",
       "      <th>Administración</th>\n",
       "    </tr>\n",
       "  </thead>\n",
       "  <tbody>\n",
       "    <tr>\n",
       "      <th>alumno_0</th>\n",
       "      <td>5.488135</td>\n",
       "      <td>9.786183</td>\n",
       "    </tr>\n",
       "    <tr>\n",
       "      <th>alumno_1</th>\n",
       "      <td>7.151894</td>\n",
       "      <td>7.991586</td>\n",
       "    </tr>\n",
       "    <tr>\n",
       "      <th>alumno_3</th>\n",
       "      <td>5.448832</td>\n",
       "      <td>7.805292</td>\n",
       "    </tr>\n",
       "    <tr>\n",
       "      <th>alumno_5</th>\n",
       "      <td>6.458941</td>\n",
       "      <td>6.399210</td>\n",
       "    </tr>\n",
       "    <tr>\n",
       "      <th>alumno_7</th>\n",
       "      <td>8.917730</td>\n",
       "      <td>9.446689</td>\n",
       "    </tr>\n",
       "    <tr>\n",
       "      <th>alumno_8</th>\n",
       "      <td>9.636628</td>\n",
       "      <td>5.218483</td>\n",
       "    </tr>\n",
       "    <tr>\n",
       "      <th>alumno_11</th>\n",
       "      <td>5.288949</td>\n",
       "      <td>7.742337</td>\n",
       "    </tr>\n",
       "    <tr>\n",
       "      <th>alumno_13</th>\n",
       "      <td>9.255966</td>\n",
       "      <td>5.684339</td>\n",
       "    </tr>\n",
       "    <tr>\n",
       "      <th>alumno_17</th>\n",
       "      <td>8.326198</td>\n",
       "      <td>6.169340</td>\n",
       "    </tr>\n",
       "    <tr>\n",
       "      <th>alumno_18</th>\n",
       "      <td>7.781568</td>\n",
       "      <td>9.437481</td>\n",
       "    </tr>\n",
       "    <tr>\n",
       "      <th>alumno_19</th>\n",
       "      <td>8.700121</td>\n",
       "      <td>6.818203</td>\n",
       "    </tr>\n",
       "  </tbody>\n",
       "</table>\n",
       "</div>"
      ],
      "text/plain": [
       "           Economía  Administración\n",
       "alumno_0   5.488135        9.786183\n",
       "alumno_1   7.151894        7.991586\n",
       "alumno_3   5.448832        7.805292\n",
       "alumno_5   6.458941        6.399210\n",
       "alumno_7   8.917730        9.446689\n",
       "alumno_8   9.636628        5.218483\n",
       "alumno_11  5.288949        7.742337\n",
       "alumno_13  9.255966        5.684339\n",
       "alumno_17  8.326198        6.169340\n",
       "alumno_18  7.781568        9.437481\n",
       "alumno_19  8.700121        6.818203"
      ]
     },
     "execution_count": 37,
     "metadata": {},
     "output_type": "execute_result"
    }
   ],
   "source": [
    "#Retornar las columnas con alumnas con notas superiores a 5\n",
    "data[(data.Economía > 5) & (data.Administración > 5)]"
   ]
  },
  {
   "cell_type": "code",
   "execution_count": 42,
   "metadata": {},
   "outputs": [
    {
     "data": {
      "text/html": [
       "<div>\n",
       "<style scoped>\n",
       "    .dataframe tbody tr th:only-of-type {\n",
       "        vertical-align: middle;\n",
       "    }\n",
       "\n",
       "    .dataframe tbody tr th {\n",
       "        vertical-align: top;\n",
       "    }\n",
       "\n",
       "    .dataframe thead th {\n",
       "        text-align: right;\n",
       "    }\n",
       "</style>\n",
       "<table border=\"1\" class=\"dataframe\">\n",
       "  <thead>\n",
       "    <tr style=\"text-align: right;\">\n",
       "      <th></th>\n",
       "      <th>Open</th>\n",
       "      <th>High</th>\n",
       "      <th>Low</th>\n",
       "      <th>Close</th>\n",
       "      <th>Volume</th>\n",
       "      <th>Currency</th>\n",
       "    </tr>\n",
       "    <tr>\n",
       "      <th>Date</th>\n",
       "      <th></th>\n",
       "      <th></th>\n",
       "      <th></th>\n",
       "      <th></th>\n",
       "      <th></th>\n",
       "      <th></th>\n",
       "    </tr>\n",
       "  </thead>\n",
       "  <tbody>\n",
       "    <tr>\n",
       "      <th>2020-12-25</th>\n",
       "      <td>1.602781</td>\n",
       "      <td>2.918094</td>\n",
       "      <td>1.375262</td>\n",
       "      <td>2.328544</td>\n",
       "      <td>638225549.0</td>\n",
       "      <td>USD</td>\n",
       "    </tr>\n",
       "    <tr>\n",
       "      <th>2020-12-26</th>\n",
       "      <td>2.318946</td>\n",
       "      <td>2.434916</td>\n",
       "      <td>1.582264</td>\n",
       "      <td>1.596896</td>\n",
       "      <td>237653073.0</td>\n",
       "      <td>USD</td>\n",
       "    </tr>\n",
       "    <tr>\n",
       "      <th>2020-12-27</th>\n",
       "      <td>1.597744</td>\n",
       "      <td>1.630781</td>\n",
       "      <td>1.056657</td>\n",
       "      <td>1.062112</td>\n",
       "      <td>183978307.0</td>\n",
       "      <td>USD</td>\n",
       "    </tr>\n",
       "    <tr>\n",
       "      <th>2020-12-28</th>\n",
       "      <td>1.064454</td>\n",
       "      <td>1.254447</td>\n",
       "      <td>1.049051</td>\n",
       "      <td>1.110076</td>\n",
       "      <td>119337529.0</td>\n",
       "      <td>USD</td>\n",
       "    </tr>\n",
       "    <tr>\n",
       "      <th>2020-12-29</th>\n",
       "      <td>1.110460</td>\n",
       "      <td>1.111282</td>\n",
       "      <td>0.761151</td>\n",
       "      <td>0.887798</td>\n",
       "      <td>137916899.0</td>\n",
       "      <td>USD</td>\n",
       "    </tr>\n",
       "  </tbody>\n",
       "</table>\n",
       "</div>"
      ],
      "text/plain": [
       "                Open      High       Low     Close       Volume Currency\n",
       "Date                                                                    \n",
       "2020-12-25  1.602781  2.918094  1.375262  2.328544  638225549.0      USD\n",
       "2020-12-26  2.318946  2.434916  1.582264  1.596896  237653073.0      USD\n",
       "2020-12-27  1.597744  1.630781  1.056657  1.062112  183978307.0      USD\n",
       "2020-12-28  1.064454  1.254447  1.049051  1.110076  119337529.0      USD\n",
       "2020-12-29  1.110460  1.111282  0.761151  0.887798  137916899.0      USD"
      ]
     },
     "execution_count": 42,
     "metadata": {},
     "output_type": "execute_result"
    }
   ],
   "source": [
    "#Importación de archivos\n",
    "path = '1inch.csv'\n",
    "\n",
    "data_ripple = pd.read_csv(path, index_col='Date')\n",
    "data_ripple.head()"
   ]
  },
  {
   "cell_type": "code",
   "execution_count": 43,
   "metadata": {},
   "outputs": [
    {
     "data": {
      "text/plain": [
       "(606, 6)"
      ]
     },
     "execution_count": 43,
     "metadata": {},
     "output_type": "execute_result"
    }
   ],
   "source": [
    "#Números de filas y columnas\n",
    "data_ripple.shape"
   ]
  },
  {
   "cell_type": "code",
   "execution_count": null,
   "metadata": {},
   "outputs": [],
   "source": []
  },
  {
   "cell_type": "code",
   "execution_count": null,
   "metadata": {},
   "outputs": [],
   "source": []
  },
  {
   "cell_type": "code",
   "execution_count": null,
   "metadata": {},
   "outputs": [],
   "source": []
  },
  {
   "cell_type": "code",
   "execution_count": null,
   "metadata": {},
   "outputs": [],
   "source": []
  }
 ],
 "metadata": {
  "kernelspec": {
   "display_name": "Python 3",
   "language": "python",
   "name": "python3"
  },
  "language_info": {
   "codemirror_mode": {
    "name": "ipython",
    "version": 3
   },
   "file_extension": ".py",
   "mimetype": "text/x-python",
   "name": "python",
   "nbconvert_exporter": "python",
   "pygments_lexer": "ipython3",
   "version": "3.12.0"
  }
 },
 "nbformat": 4,
 "nbformat_minor": 2
}
