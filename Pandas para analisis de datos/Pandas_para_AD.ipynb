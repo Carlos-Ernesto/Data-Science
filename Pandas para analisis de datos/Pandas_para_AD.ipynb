{
 "cells": [
  {
   "cell_type": "code",
   "execution_count": 2,
   "metadata": {},
   "outputs": [],
   "source": [
    "import pandas as pd \n",
    "import numpy as np"
   ]
  },
  {
   "cell_type": "code",
   "execution_count": 3,
   "metadata": {},
   "outputs": [],
   "source": [
    "#Creación de set de datos con números aleatorios\n",
    "np.random.seed(0)\n",
    "\n",
    "datos1 = np.random.rand(20)*10\n",
    "datos2 = np.random.rand(20)*10"
   ]
  },
  {
   "cell_type": "code",
   "execution_count": 4,
   "metadata": {},
   "outputs": [],
   "source": [
    "#Crear un lista de índices\n",
    "alumnos = []\n",
    "for i in range(20):\n",
    "    alumnos.append('alumno_'+ str(i))"
   ]
  },
  {
   "cell_type": "code",
   "execution_count": 5,
   "metadata": {},
   "outputs": [],
   "source": [
    "#Creación de un data frame\n",
    "data = pd.DataFrame({\n",
    "    \"Economía\": datos1,\n",
    "    \"Administración\": datos2\n",
    "}, index= alumnos)"
   ]
  },
  {
   "cell_type": "code",
   "execution_count": 6,
   "metadata": {},
   "outputs": [
    {
     "data": {
      "text/plain": [
       "(20, 2)"
      ]
     },
     "execution_count": 6,
     "metadata": {},
     "output_type": "execute_result"
    }
   ],
   "source": [
    "#Forma del data frame\n",
    "data.shape"
   ]
  },
  {
   "cell_type": "code",
   "execution_count": 7,
   "metadata": {},
   "outputs": [
    {
     "data": {
      "text/html": [
       "<div>\n",
       "<style scoped>\n",
       "    .dataframe tbody tr th:only-of-type {\n",
       "        vertical-align: middle;\n",
       "    }\n",
       "\n",
       "    .dataframe tbody tr th {\n",
       "        vertical-align: top;\n",
       "    }\n",
       "\n",
       "    .dataframe thead th {\n",
       "        text-align: right;\n",
       "    }\n",
       "</style>\n",
       "<table border=\"1\" class=\"dataframe\">\n",
       "  <thead>\n",
       "    <tr style=\"text-align: right;\">\n",
       "      <th></th>\n",
       "      <th>Economía</th>\n",
       "      <th>Administración</th>\n",
       "    </tr>\n",
       "  </thead>\n",
       "  <tbody>\n",
       "    <tr>\n",
       "      <th>alumno_0</th>\n",
       "      <td>5.488135</td>\n",
       "      <td>9.786183</td>\n",
       "    </tr>\n",
       "    <tr>\n",
       "      <th>alumno_1</th>\n",
       "      <td>7.151894</td>\n",
       "      <td>7.991586</td>\n",
       "    </tr>\n",
       "    <tr>\n",
       "      <th>alumno_2</th>\n",
       "      <td>6.027634</td>\n",
       "      <td>4.614794</td>\n",
       "    </tr>\n",
       "    <tr>\n",
       "      <th>alumno_3</th>\n",
       "      <td>5.448832</td>\n",
       "      <td>7.805292</td>\n",
       "    </tr>\n",
       "    <tr>\n",
       "      <th>alumno_4</th>\n",
       "      <td>4.236548</td>\n",
       "      <td>1.182744</td>\n",
       "    </tr>\n",
       "  </tbody>\n",
       "</table>\n",
       "</div>"
      ],
      "text/plain": [
       "          Economía  Administración\n",
       "alumno_0  5.488135        9.786183\n",
       "alumno_1  7.151894        7.991586\n",
       "alumno_2  6.027634        4.614794\n",
       "alumno_3  5.448832        7.805292\n",
       "alumno_4  4.236548        1.182744"
      ]
     },
     "execution_count": 7,
     "metadata": {},
     "output_type": "execute_result"
    }
   ],
   "source": [
    "#Primeos 5 resultados\n",
    "data.head()"
   ]
  },
  {
   "cell_type": "markdown",
   "metadata": {},
   "source": [
    "Funciones loc & iloc\n",
    "* loc: Retorna los datos filtrados por el índice del dataset\n",
    "* iloc: Retorna los datos filtrados por la posición de los datos"
   ]
  },
  {
   "cell_type": "code",
   "execution_count": 8,
   "metadata": {},
   "outputs": [
    {
     "data": {
      "text/plain": [
       "Economía          5.488135\n",
       "Administración    9.786183\n",
       "Name: alumno_0, dtype: float64"
      ]
     },
     "execution_count": 8,
     "metadata": {},
     "output_type": "execute_result"
    }
   ],
   "source": [
    "data.loc[\"alumno_0\",]"
   ]
  },
  {
   "cell_type": "code",
   "execution_count": 9,
   "metadata": {},
   "outputs": [
    {
     "data": {
      "text/plain": [
       "Economía          5.488135\n",
       "Administración    9.786183\n",
       "Name: alumno_0, dtype: float64"
      ]
     },
     "execution_count": 9,
     "metadata": {},
     "output_type": "execute_result"
    }
   ],
   "source": [
    "data.iloc[0]"
   ]
  },
  {
   "cell_type": "code",
   "execution_count": 10,
   "metadata": {},
   "outputs": [
    {
     "data": {
      "text/html": [
       "<div>\n",
       "<style scoped>\n",
       "    .dataframe tbody tr th:only-of-type {\n",
       "        vertical-align: middle;\n",
       "    }\n",
       "\n",
       "    .dataframe tbody tr th {\n",
       "        vertical-align: top;\n",
       "    }\n",
       "\n",
       "    .dataframe thead th {\n",
       "        text-align: right;\n",
       "    }\n",
       "</style>\n",
       "<table border=\"1\" class=\"dataframe\">\n",
       "  <thead>\n",
       "    <tr style=\"text-align: right;\">\n",
       "      <th></th>\n",
       "      <th>Economía</th>\n",
       "      <th>Administración</th>\n",
       "    </tr>\n",
       "  </thead>\n",
       "  <tbody>\n",
       "    <tr>\n",
       "      <th>alumno_2</th>\n",
       "      <td>6.027634</td>\n",
       "      <td>4.614794</td>\n",
       "    </tr>\n",
       "    <tr>\n",
       "      <th>alumno_3</th>\n",
       "      <td>5.448832</td>\n",
       "      <td>7.805292</td>\n",
       "    </tr>\n",
       "  </tbody>\n",
       "</table>\n",
       "</div>"
      ],
      "text/plain": [
       "          Economía  Administración\n",
       "alumno_2  6.027634        4.614794\n",
       "alumno_3  5.448832        7.805292"
      ]
     },
     "execution_count": 10,
     "metadata": {},
     "output_type": "execute_result"
    }
   ],
   "source": [
    "data.iloc[2:4]"
   ]
  },
  {
   "cell_type": "code",
   "execution_count": 11,
   "metadata": {},
   "outputs": [
    {
     "data": {
      "text/html": [
       "<div>\n",
       "<style scoped>\n",
       "    .dataframe tbody tr th:only-of-type {\n",
       "        vertical-align: middle;\n",
       "    }\n",
       "\n",
       "    .dataframe tbody tr th {\n",
       "        vertical-align: top;\n",
       "    }\n",
       "\n",
       "    .dataframe thead th {\n",
       "        text-align: right;\n",
       "    }\n",
       "</style>\n",
       "<table border=\"1\" class=\"dataframe\">\n",
       "  <thead>\n",
       "    <tr style=\"text-align: right;\">\n",
       "      <th></th>\n",
       "      <th>Economía</th>\n",
       "      <th>Administración</th>\n",
       "    </tr>\n",
       "  </thead>\n",
       "  <tbody>\n",
       "    <tr>\n",
       "      <th>alumno_2</th>\n",
       "      <td>6.027634</td>\n",
       "      <td>4.614794</td>\n",
       "    </tr>\n",
       "    <tr>\n",
       "      <th>alumno_8</th>\n",
       "      <td>9.636628</td>\n",
       "      <td>5.218483</td>\n",
       "    </tr>\n",
       "  </tbody>\n",
       "</table>\n",
       "</div>"
      ],
      "text/plain": [
       "          Economía  Administración\n",
       "alumno_2  6.027634        4.614794\n",
       "alumno_8  9.636628        5.218483"
      ]
     },
     "execution_count": 11,
     "metadata": {},
     "output_type": "execute_result"
    }
   ],
   "source": [
    "data.iloc[[2,8]]"
   ]
  },
  {
   "cell_type": "code",
   "execution_count": 12,
   "metadata": {},
   "outputs": [
    {
     "data": {
      "text/plain": [
       "alumno_0     True\n",
       "alumno_1     True\n",
       "alumno_2     True\n",
       "alumno_3     True\n",
       "alumno_4    False\n",
       "Name: Economía, dtype: bool"
      ]
     },
     "execution_count": 12,
     "metadata": {},
     "output_type": "execute_result"
    }
   ],
   "source": [
    "#Filtros condicionales\n",
    "filtro1 = data.Economía > 5\n",
    "filtro1.head()"
   ]
  },
  {
   "cell_type": "code",
   "execution_count": 13,
   "metadata": {},
   "outputs": [
    {
     "data": {
      "text/html": [
       "<div>\n",
       "<style scoped>\n",
       "    .dataframe tbody tr th:only-of-type {\n",
       "        vertical-align: middle;\n",
       "    }\n",
       "\n",
       "    .dataframe tbody tr th {\n",
       "        vertical-align: top;\n",
       "    }\n",
       "\n",
       "    .dataframe thead th {\n",
       "        text-align: right;\n",
       "    }\n",
       "</style>\n",
       "<table border=\"1\" class=\"dataframe\">\n",
       "  <thead>\n",
       "    <tr style=\"text-align: right;\">\n",
       "      <th></th>\n",
       "      <th>Economía</th>\n",
       "      <th>Administración</th>\n",
       "    </tr>\n",
       "  </thead>\n",
       "  <tbody>\n",
       "    <tr>\n",
       "      <th>alumno_0</th>\n",
       "      <td>5.488135</td>\n",
       "      <td>9.786183</td>\n",
       "    </tr>\n",
       "    <tr>\n",
       "      <th>alumno_1</th>\n",
       "      <td>7.151894</td>\n",
       "      <td>7.991586</td>\n",
       "    </tr>\n",
       "    <tr>\n",
       "      <th>alumno_3</th>\n",
       "      <td>5.448832</td>\n",
       "      <td>7.805292</td>\n",
       "    </tr>\n",
       "    <tr>\n",
       "      <th>alumno_5</th>\n",
       "      <td>6.458941</td>\n",
       "      <td>6.399210</td>\n",
       "    </tr>\n",
       "    <tr>\n",
       "      <th>alumno_7</th>\n",
       "      <td>8.917730</td>\n",
       "      <td>9.446689</td>\n",
       "    </tr>\n",
       "    <tr>\n",
       "      <th>alumno_8</th>\n",
       "      <td>9.636628</td>\n",
       "      <td>5.218483</td>\n",
       "    </tr>\n",
       "    <tr>\n",
       "      <th>alumno_11</th>\n",
       "      <td>5.288949</td>\n",
       "      <td>7.742337</td>\n",
       "    </tr>\n",
       "    <tr>\n",
       "      <th>alumno_13</th>\n",
       "      <td>9.255966</td>\n",
       "      <td>5.684339</td>\n",
       "    </tr>\n",
       "    <tr>\n",
       "      <th>alumno_17</th>\n",
       "      <td>8.326198</td>\n",
       "      <td>6.169340</td>\n",
       "    </tr>\n",
       "    <tr>\n",
       "      <th>alumno_18</th>\n",
       "      <td>7.781568</td>\n",
       "      <td>9.437481</td>\n",
       "    </tr>\n",
       "    <tr>\n",
       "      <th>alumno_19</th>\n",
       "      <td>8.700121</td>\n",
       "      <td>6.818203</td>\n",
       "    </tr>\n",
       "  </tbody>\n",
       "</table>\n",
       "</div>"
      ],
      "text/plain": [
       "           Economía  Administración\n",
       "alumno_0   5.488135        9.786183\n",
       "alumno_1   7.151894        7.991586\n",
       "alumno_3   5.448832        7.805292\n",
       "alumno_5   6.458941        6.399210\n",
       "alumno_7   8.917730        9.446689\n",
       "alumno_8   9.636628        5.218483\n",
       "alumno_11  5.288949        7.742337\n",
       "alumno_13  9.255966        5.684339\n",
       "alumno_17  8.326198        6.169340\n",
       "alumno_18  7.781568        9.437481\n",
       "alumno_19  8.700121        6.818203"
      ]
     },
     "execution_count": 13,
     "metadata": {},
     "output_type": "execute_result"
    }
   ],
   "source": [
    "#Retornar las columnas con alumnas con notas superiores a 5\n",
    "data[(data.Economía > 5) & (data.Administración > 5)]"
   ]
  },
  {
   "cell_type": "code",
   "execution_count": 14,
   "metadata": {},
   "outputs": [
    {
     "data": {
      "text/html": [
       "<div>\n",
       "<style scoped>\n",
       "    .dataframe tbody tr th:only-of-type {\n",
       "        vertical-align: middle;\n",
       "    }\n",
       "\n",
       "    .dataframe tbody tr th {\n",
       "        vertical-align: top;\n",
       "    }\n",
       "\n",
       "    .dataframe thead th {\n",
       "        text-align: right;\n",
       "    }\n",
       "</style>\n",
       "<table border=\"1\" class=\"dataframe\">\n",
       "  <thead>\n",
       "    <tr style=\"text-align: right;\">\n",
       "      <th></th>\n",
       "      <th>Open</th>\n",
       "      <th>High</th>\n",
       "      <th>Low</th>\n",
       "      <th>Close</th>\n",
       "      <th>Volume</th>\n",
       "      <th>Currency</th>\n",
       "    </tr>\n",
       "    <tr>\n",
       "      <th>Date</th>\n",
       "      <th></th>\n",
       "      <th></th>\n",
       "      <th></th>\n",
       "      <th></th>\n",
       "      <th></th>\n",
       "      <th></th>\n",
       "    </tr>\n",
       "  </thead>\n",
       "  <tbody>\n",
       "    <tr>\n",
       "      <th>2020-12-25</th>\n",
       "      <td>1.602781</td>\n",
       "      <td>2.918094</td>\n",
       "      <td>1.375262</td>\n",
       "      <td>2.328544</td>\n",
       "      <td>638225549.0</td>\n",
       "      <td>USD</td>\n",
       "    </tr>\n",
       "    <tr>\n",
       "      <th>2020-12-26</th>\n",
       "      <td>2.318946</td>\n",
       "      <td>2.434916</td>\n",
       "      <td>1.582264</td>\n",
       "      <td>1.596896</td>\n",
       "      <td>237653073.0</td>\n",
       "      <td>USD</td>\n",
       "    </tr>\n",
       "    <tr>\n",
       "      <th>2020-12-27</th>\n",
       "      <td>1.597744</td>\n",
       "      <td>1.630781</td>\n",
       "      <td>1.056657</td>\n",
       "      <td>1.062112</td>\n",
       "      <td>183978307.0</td>\n",
       "      <td>USD</td>\n",
       "    </tr>\n",
       "    <tr>\n",
       "      <th>2020-12-28</th>\n",
       "      <td>1.064454</td>\n",
       "      <td>1.254447</td>\n",
       "      <td>1.049051</td>\n",
       "      <td>1.110076</td>\n",
       "      <td>119337529.0</td>\n",
       "      <td>USD</td>\n",
       "    </tr>\n",
       "    <tr>\n",
       "      <th>2020-12-29</th>\n",
       "      <td>1.110460</td>\n",
       "      <td>1.111282</td>\n",
       "      <td>0.761151</td>\n",
       "      <td>0.887798</td>\n",
       "      <td>137916899.0</td>\n",
       "      <td>USD</td>\n",
       "    </tr>\n",
       "  </tbody>\n",
       "</table>\n",
       "</div>"
      ],
      "text/plain": [
       "                Open      High       Low     Close       Volume Currency\n",
       "Date                                                                    \n",
       "2020-12-25  1.602781  2.918094  1.375262  2.328544  638225549.0      USD\n",
       "2020-12-26  2.318946  2.434916  1.582264  1.596896  237653073.0      USD\n",
       "2020-12-27  1.597744  1.630781  1.056657  1.062112  183978307.0      USD\n",
       "2020-12-28  1.064454  1.254447  1.049051  1.110076  119337529.0      USD\n",
       "2020-12-29  1.110460  1.111282  0.761151  0.887798  137916899.0      USD"
      ]
     },
     "execution_count": 14,
     "metadata": {},
     "output_type": "execute_result"
    }
   ],
   "source": [
    "#Importación de archivos\n",
    "path = '1inch.csv'\n",
    "\n",
    "data_ripple = pd.read_csv(path, index_col='Date')\n",
    "data_ripple.head()"
   ]
  },
  {
   "cell_type": "code",
   "execution_count": 15,
   "metadata": {},
   "outputs": [
    {
     "name": "stdout",
     "output_type": "stream",
     "text": [
      "Este conjunto de datos contiene 606 filas y 6 columnas\n"
     ]
    }
   ],
   "source": [
    "#Números de filas y columnas\n",
    "data_ripple.shape\n",
    "\n",
    "print(f\"Este conjunto de datos contiene {data_ripple.shape[0]} filas y {data_ripple.shape[1]} columnas\")"
   ]
  },
  {
   "cell_type": "code",
   "execution_count": 16,
   "metadata": {},
   "outputs": [
    {
     "data": {
      "text/plain": [
       "Index(['2020-12-25', '2020-12-26', '2020-12-27', '2020-12-28', '2020-12-29',\n",
       "       '2020-12-30', '2020-12-31', '2021-01-01', '2021-01-02', '2021-01-03',\n",
       "       ...\n",
       "       '2022-08-13', '2022-08-14', '2022-08-15', '2022-08-16', '2022-08-17',\n",
       "       '2022-08-18', '2022-08-19', '2022-08-20', '2022-08-21', '2022-08-23'],\n",
       "      dtype='object', name='Date', length=606)"
      ]
     },
     "execution_count": 16,
     "metadata": {},
     "output_type": "execute_result"
    }
   ],
   "source": [
    "#Mostrar los índices del set de datos\n",
    "data_ripple.index"
   ]
  },
  {
   "cell_type": "markdown",
   "metadata": {},
   "source": [
    "### Series\n",
    "\n",
    "Es la parte elemento más básico de un conjunto de datos, la unión de varias series forman un data frame"
   ]
  },
  {
   "cell_type": "code",
   "execution_count": 17,
   "metadata": {},
   "outputs": [
    {
     "data": {
      "text/plain": [
       "0    1\n",
       "1    3\n",
       "2    5\n",
       "3    7\n",
       "4    9\n",
       "dtype: int64"
      ]
     },
     "execution_count": 17,
     "metadata": {},
     "output_type": "execute_result"
    }
   ],
   "source": [
    "serie = pd.Series(range(1,10,2))\n",
    "serie"
   ]
  },
  {
   "cell_type": "code",
   "execution_count": 18,
   "metadata": {},
   "outputs": [
    {
     "data": {
      "text/plain": [
       "a    1\n",
       "b    2\n",
       "c    3\n",
       "d    4\n",
       "dtype: int64"
      ]
     },
     "execution_count": 18,
     "metadata": {},
     "output_type": "execute_result"
    }
   ],
   "source": [
    "#Creación de un serie con índice personalizado\n",
    "serie_1 = pd.Series(range(1,5), index=[\"a\", \"b\", \"c\", \"d\"])\n",
    "serie_1"
   ]
  },
  {
   "cell_type": "code",
   "execution_count": 19,
   "metadata": {},
   "outputs": [
    {
     "data": {
      "text/plain": [
       "c    3\n",
       "a    1\n",
       "dtype: int64"
      ]
     },
     "execution_count": 19,
     "metadata": {},
     "output_type": "execute_result"
    }
   ],
   "source": [
    "#Extraer información de una serie por el índice\n",
    "serie_1[[\"c\", 'a']]"
   ]
  },
  {
   "cell_type": "code",
   "execution_count": 20,
   "metadata": {},
   "outputs": [
    {
     "data": {
      "text/plain": [
       "DatetimeIndex(['2017-09-15', '2017-09-16', '2017-09-17', '2017-09-18',\n",
       "               '2017-09-19'],\n",
       "              dtype='datetime64[ns]', freq='D')"
      ]
     },
     "execution_count": 20,
     "metadata": {},
     "output_type": "execute_result"
    }
   ],
   "source": [
    "#Datos de fecha en el índice\n",
    "fechas = pd.date_range('2017-09-15', '2017-09-19')\n",
    "fechas"
   ]
  },
  {
   "cell_type": "code",
   "execution_count": 21,
   "metadata": {},
   "outputs": [
    {
     "data": {
      "text/plain": [
       "2017-09-15     6\n",
       "2017-09-16     6\n",
       "2017-09-17    12\n",
       "2017-09-18    14\n",
       "2017-09-19     8\n",
       "Freq: D, dtype: int32"
      ]
     },
     "execution_count": 21,
     "metadata": {},
     "output_type": "execute_result"
    }
   ],
   "source": [
    "#Usar la fecha como índice\n",
    "temps = pd.Series(np.random.randint(5,25,5), index=fechas)\n",
    "temps"
   ]
  },
  {
   "cell_type": "code",
   "execution_count": 22,
   "metadata": {},
   "outputs": [
    {
     "data": {
      "text/plain": [
       "14"
      ]
     },
     "execution_count": 22,
     "metadata": {},
     "output_type": "execute_result"
    }
   ],
   "source": [
    "#Podemos extraer los datos de x fecha\n",
    "temps[\"2017-09-18\"]"
   ]
  },
  {
   "cell_type": "code",
   "execution_count": 23,
   "metadata": {},
   "outputs": [
    {
     "data": {
      "text/plain": [
       "2017-09-15    1\n",
       "2017-09-16    2\n",
       "2017-09-17    6\n",
       "2017-09-18    9\n",
       "2017-09-19   -3\n",
       "Freq: D, dtype: int32"
      ]
     },
     "execution_count": 23,
     "metadata": {},
     "output_type": "execute_result"
    }
   ],
   "source": [
    "#Realizar opereciones matemáticas con series\n",
    "temps2 = pd.Series(np.random.randint(-5,10,5), index= fechas)\n",
    "temps2"
   ]
  },
  {
   "cell_type": "code",
   "execution_count": 24,
   "metadata": {},
   "outputs": [
    {
     "data": {
      "text/plain": [
       "2017-09-15     7\n",
       "2017-09-16     8\n",
       "2017-09-17    18\n",
       "2017-09-18    23\n",
       "2017-09-19     5\n",
       "Freq: D, dtype: int32"
      ]
     },
     "execution_count": 24,
     "metadata": {},
     "output_type": "execute_result"
    }
   ],
   "source": [
    "temps_sum = temps + temps2\n",
    "temps_sum"
   ]
  },
  {
   "cell_type": "code",
   "execution_count": 25,
   "metadata": {},
   "outputs": [
    {
     "data": {
      "text/plain": [
       "12.2"
      ]
     },
     "execution_count": 25,
     "metadata": {},
     "output_type": "execute_result"
    }
   ],
   "source": [
    "temps_sum.mean()"
   ]
  },
  {
   "cell_type": "code",
   "execution_count": 26,
   "metadata": {},
   "outputs": [
    {
     "data": {
      "text/plain": [
       "61"
      ]
     },
     "execution_count": 26,
     "metadata": {},
     "output_type": "execute_result"
    }
   ],
   "source": [
    "temps_sum.sum()"
   ]
  },
  {
   "cell_type": "markdown",
   "metadata": {},
   "source": [
    "### DataFrame Pandas\n",
    "Unión de múltiples series con índice común"
   ]
  },
  {
   "cell_type": "code",
   "execution_count": 27,
   "metadata": {},
   "outputs": [
    {
     "data": {
      "text/html": [
       "<div>\n",
       "<style scoped>\n",
       "    .dataframe tbody tr th:only-of-type {\n",
       "        vertical-align: middle;\n",
       "    }\n",
       "\n",
       "    .dataframe tbody tr th {\n",
       "        vertical-align: top;\n",
       "    }\n",
       "\n",
       "    .dataframe thead th {\n",
       "        text-align: right;\n",
       "    }\n",
       "</style>\n",
       "<table border=\"1\" class=\"dataframe\">\n",
       "  <thead>\n",
       "    <tr style=\"text-align: right;\">\n",
       "      <th></th>\n",
       "      <th>Mexico</th>\n",
       "      <th>Canada</th>\n",
       "    </tr>\n",
       "  </thead>\n",
       "  <tbody>\n",
       "    <tr>\n",
       "      <th>2017-09-15</th>\n",
       "      <td>6</td>\n",
       "      <td>1</td>\n",
       "    </tr>\n",
       "    <tr>\n",
       "      <th>2017-09-16</th>\n",
       "      <td>6</td>\n",
       "      <td>2</td>\n",
       "    </tr>\n",
       "    <tr>\n",
       "      <th>2017-09-17</th>\n",
       "      <td>12</td>\n",
       "      <td>6</td>\n",
       "    </tr>\n",
       "    <tr>\n",
       "      <th>2017-09-18</th>\n",
       "      <td>14</td>\n",
       "      <td>9</td>\n",
       "    </tr>\n",
       "    <tr>\n",
       "      <th>2017-09-19</th>\n",
       "      <td>8</td>\n",
       "      <td>-3</td>\n",
       "    </tr>\n",
       "  </tbody>\n",
       "</table>\n",
       "</div>"
      ],
      "text/plain": [
       "            Mexico  Canada\n",
       "2017-09-15       6       1\n",
       "2017-09-16       6       2\n",
       "2017-09-17      12       6\n",
       "2017-09-18      14       9\n",
       "2017-09-19       8      -3"
      ]
     },
     "execution_count": 27,
     "metadata": {},
     "output_type": "execute_result"
    }
   ],
   "source": [
    "df = pd.DataFrame({\n",
    "    \"Mexico\":temps,\n",
    "    \"Canada\":temps2\n",
    "})\n",
    "df"
   ]
  },
  {
   "cell_type": "code",
   "execution_count": 28,
   "metadata": {},
   "outputs": [
    {
     "data": {
      "text/plain": [
       "2017-09-15     6\n",
       "2017-09-16     6\n",
       "2017-09-17    12\n",
       "2017-09-18    14\n",
       "2017-09-19     8\n",
       "Freq: D, Name: Mexico, dtype: int32"
      ]
     },
     "execution_count": 28,
     "metadata": {},
     "output_type": "execute_result"
    }
   ],
   "source": [
    "valores_1 = df[\"Mexico\"]\n",
    "valores_1"
   ]
  },
  {
   "cell_type": "code",
   "execution_count": 29,
   "metadata": {},
   "outputs": [
    {
     "data": {
      "text/plain": [
       "[6, 6, 12, 14, 8]"
      ]
     },
     "execution_count": 29,
     "metadata": {},
     "output_type": "execute_result"
    }
   ],
   "source": [
    "valores_2 = df[\"Mexico\"].tolist()\n",
    "valores_2"
   ]
  },
  {
   "cell_type": "code",
   "execution_count": 30,
   "metadata": {},
   "outputs": [
    {
     "name": "stdout",
     "output_type": "stream",
     "text": [
      "<class 'pandas.core.series.Series'>\n",
      "<class 'list'>\n",
      "<class 'pandas.core.frame.DataFrame'>\n"
     ]
    }
   ],
   "source": [
    "print(type(valores_1))\n",
    "print(type(valores_2))\n",
    "print(type(df))"
   ]
  },
  {
   "cell_type": "code",
   "execution_count": 31,
   "metadata": {},
   "outputs": [
    {
     "data": {
      "text/html": [
       "<div>\n",
       "<style scoped>\n",
       "    .dataframe tbody tr th:only-of-type {\n",
       "        vertical-align: middle;\n",
       "    }\n",
       "\n",
       "    .dataframe tbody tr th {\n",
       "        vertical-align: top;\n",
       "    }\n",
       "\n",
       "    .dataframe thead th {\n",
       "        text-align: right;\n",
       "    }\n",
       "</style>\n",
       "<table border=\"1\" class=\"dataframe\">\n",
       "  <thead>\n",
       "    <tr style=\"text-align: right;\">\n",
       "      <th></th>\n",
       "      <th>Canada</th>\n",
       "      <th>Mexico</th>\n",
       "    </tr>\n",
       "  </thead>\n",
       "  <tbody>\n",
       "    <tr>\n",
       "      <th>2017-09-15</th>\n",
       "      <td>1</td>\n",
       "      <td>6</td>\n",
       "    </tr>\n",
       "    <tr>\n",
       "      <th>2017-09-16</th>\n",
       "      <td>2</td>\n",
       "      <td>6</td>\n",
       "    </tr>\n",
       "    <tr>\n",
       "      <th>2017-09-17</th>\n",
       "      <td>6</td>\n",
       "      <td>12</td>\n",
       "    </tr>\n",
       "    <tr>\n",
       "      <th>2017-09-18</th>\n",
       "      <td>9</td>\n",
       "      <td>14</td>\n",
       "    </tr>\n",
       "    <tr>\n",
       "      <th>2017-09-19</th>\n",
       "      <td>-3</td>\n",
       "      <td>8</td>\n",
       "    </tr>\n",
       "  </tbody>\n",
       "</table>\n",
       "</div>"
      ],
      "text/plain": [
       "            Canada  Mexico\n",
       "2017-09-15       1       6\n",
       "2017-09-16       2       6\n",
       "2017-09-17       6      12\n",
       "2017-09-18       9      14\n",
       "2017-09-19      -3       8"
      ]
     },
     "execution_count": 31,
     "metadata": {},
     "output_type": "execute_result"
    }
   ],
   "source": [
    "estado_1 = 'Mexico'\n",
    "estado_2 = \"Canada\"\n",
    "df[[estado_2, estado_1]]"
   ]
  },
  {
   "cell_type": "code",
   "execution_count": 32,
   "metadata": {},
   "outputs": [
    {
     "data": {
      "text/plain": [
       "2017-09-15     6\n",
       "2017-09-16     6\n",
       "2017-09-17    12\n",
       "2017-09-18    14\n",
       "2017-09-19     8\n",
       "Freq: D, Name: Mexico, dtype: int32"
      ]
     },
     "execution_count": 32,
     "metadata": {},
     "output_type": "execute_result"
    }
   ],
   "source": [
    "#Si el nombre de la columna no tiene espacios, se puede acceder a ella de la siguiente forma: \"Nombre df\" + \".\" + \"nombre columna\"\n",
    "df.Mexico"
   ]
  },
  {
   "cell_type": "code",
   "execution_count": 33,
   "metadata": {},
   "outputs": [
    {
     "data": {
      "text/html": [
       "<div>\n",
       "<style scoped>\n",
       "    .dataframe tbody tr th:only-of-type {\n",
       "        vertical-align: middle;\n",
       "    }\n",
       "\n",
       "    .dataframe tbody tr th {\n",
       "        vertical-align: top;\n",
       "    }\n",
       "\n",
       "    .dataframe thead th {\n",
       "        text-align: right;\n",
       "    }\n",
       "</style>\n",
       "<table border=\"1\" class=\"dataframe\">\n",
       "  <thead>\n",
       "    <tr style=\"text-align: right;\">\n",
       "      <th></th>\n",
       "      <th>Mexico</th>\n",
       "      <th>Canada</th>\n",
       "      <th>Chile</th>\n",
       "    </tr>\n",
       "  </thead>\n",
       "  <tbody>\n",
       "    <tr>\n",
       "      <th>2017-09-15</th>\n",
       "      <td>6</td>\n",
       "      <td>1</td>\n",
       "      <td>11</td>\n",
       "    </tr>\n",
       "    <tr>\n",
       "      <th>2017-09-16</th>\n",
       "      <td>6</td>\n",
       "      <td>2</td>\n",
       "      <td>0</td>\n",
       "    </tr>\n",
       "    <tr>\n",
       "      <th>2017-09-17</th>\n",
       "      <td>12</td>\n",
       "      <td>6</td>\n",
       "      <td>14</td>\n",
       "    </tr>\n",
       "    <tr>\n",
       "      <th>2017-09-18</th>\n",
       "      <td>14</td>\n",
       "      <td>9</td>\n",
       "      <td>3</td>\n",
       "    </tr>\n",
       "    <tr>\n",
       "      <th>2017-09-19</th>\n",
       "      <td>8</td>\n",
       "      <td>-3</td>\n",
       "      <td>5</td>\n",
       "    </tr>\n",
       "  </tbody>\n",
       "</table>\n",
       "</div>"
      ],
      "text/plain": [
       "            Mexico  Canada  Chile\n",
       "2017-09-15       6       1     11\n",
       "2017-09-16       6       2      0\n",
       "2017-09-17      12       6     14\n",
       "2017-09-18      14       9      3\n",
       "2017-09-19       8      -3      5"
      ]
     },
     "execution_count": 33,
     "metadata": {},
     "output_type": "execute_result"
    }
   ],
   "source": [
    "#Crear una nueva columna\n",
    "df[\"Chile\"] = pd.Series(np.random.randint(0,15,5), index= fechas)\n",
    "df"
   ]
  },
  {
   "cell_type": "code",
   "execution_count": 34,
   "metadata": {},
   "outputs": [
    {
     "data": {
      "text/plain": [
       "2017-09-15    11\n",
       "2017-09-16     0\n",
       "2017-09-17    14\n",
       "Freq: D, Name: Chile, dtype: int32"
      ]
     },
     "execution_count": 34,
     "metadata": {},
     "output_type": "execute_result"
    }
   ],
   "source": [
    "#Mostrar los 3 últimos valores de la columna Chile\n",
    "df.Chile[:3]"
   ]
  },
  {
   "cell_type": "code",
   "execution_count": 35,
   "metadata": {},
   "outputs": [
    {
     "data": {
      "text/html": [
       "<div>\n",
       "<style scoped>\n",
       "    .dataframe tbody tr th:only-of-type {\n",
       "        vertical-align: middle;\n",
       "    }\n",
       "\n",
       "    .dataframe tbody tr th {\n",
       "        vertical-align: top;\n",
       "    }\n",
       "\n",
       "    .dataframe thead th {\n",
       "        text-align: right;\n",
       "    }\n",
       "</style>\n",
       "<table border=\"1\" class=\"dataframe\">\n",
       "  <thead>\n",
       "    <tr style=\"text-align: right;\">\n",
       "      <th></th>\n",
       "      <th>Mexico</th>\n",
       "      <th>Canada</th>\n",
       "      <th>Chile</th>\n",
       "    </tr>\n",
       "  </thead>\n",
       "  <tbody>\n",
       "    <tr>\n",
       "      <th>2017-09-15</th>\n",
       "      <td>6</td>\n",
       "      <td>1</td>\n",
       "      <td>11</td>\n",
       "    </tr>\n",
       "    <tr>\n",
       "      <th>2017-09-16</th>\n",
       "      <td>6</td>\n",
       "      <td>2</td>\n",
       "      <td>0</td>\n",
       "    </tr>\n",
       "  </tbody>\n",
       "</table>\n",
       "</div>"
      ],
      "text/plain": [
       "            Mexico  Canada  Chile\n",
       "2017-09-15       6       1     11\n",
       "2017-09-16       6       2      0"
      ]
     },
     "execution_count": 35,
     "metadata": {},
     "output_type": "execute_result"
    }
   ],
   "source": [
    "#Mostrar las dos primeres filas\n",
    "df.iloc[0:2]"
   ]
  },
  {
   "cell_type": "code",
   "execution_count": 36,
   "metadata": {},
   "outputs": [
    {
     "data": {
      "text/plain": [
       "nombre      Martha\n",
       "apellido     Julia\n",
       "edad            23\n",
       "dtype: object"
      ]
     },
     "execution_count": 36,
     "metadata": {},
     "output_type": "execute_result"
    }
   ],
   "source": [
    "#Convertir a serie un diccionario (Las claves se convierten en los índices)\n",
    "pd.Series({\n",
    "    \"nombre\":\"Martha\",\n",
    "    \"apellido\":\"Julia\",\n",
    "    \"edad\":23\n",
    "})"
   ]
  },
  {
   "cell_type": "code",
   "execution_count": 37,
   "metadata": {},
   "outputs": [
    {
     "data": {
      "text/plain": [
       "0     0\n",
       "1     5\n",
       "2    10\n",
       "3    15\n",
       "4    20\n",
       "dtype: int32"
      ]
     },
     "execution_count": 37,
     "metadata": {},
     "output_type": "execute_result"
    }
   ],
   "source": [
    "#La multiplicación sobre una serie se la hace como iteración\n",
    "x = pd.Series(np.arange(0,5))\n",
    "x * 5"
   ]
  },
  {
   "cell_type": "code",
   "execution_count": 38,
   "metadata": {},
   "outputs": [
    {
     "name": "stdout",
     "output_type": "stream",
     "text": [
      "Valores: [-10  -9  -8  -7  -6  -5  -4  -3  -2  -1]\n",
      "Índices: RangeIndex(start=0, stop=10, step=1)\n",
      "Longitud: 10\n",
      "Tamaño: 10\n"
     ]
    }
   ],
   "source": [
    "#Propiedades de las series\n",
    "s = pd.Series(np.arange(-10,0))\n",
    "\n",
    "print(f\"Valores: {s.values}\")\n",
    "print(f\"Índices: {s.index}\")\n",
    "print(f\"Longitud: {len(s)}\")\n",
    "print(f\"Tamaño: {s.size}\")"
   ]
  },
  {
   "cell_type": "code",
   "execution_count": 39,
   "metadata": {},
   "outputs": [
    {
     "data": {
      "text/plain": [
       "10    100\n",
       "11    101\n",
       "12    102\n",
       "13    103\n",
       "14    104\n",
       "15    105\n",
       "16    106\n",
       "17    107\n",
       "18    108\n",
       "19    109\n",
       "20    110\n",
       "21    111\n",
       "22    112\n",
       "23    113\n",
       "24    114\n",
       "25    115\n",
       "26    116\n",
       "27    117\n",
       "28    118\n",
       "29    119\n",
       "dtype: int32"
      ]
     },
     "execution_count": 39,
     "metadata": {},
     "output_type": "execute_result"
    }
   ],
   "source": [
    "#Obtener subconjuntos de una serie\n",
    "s1 = pd.Series(np.arange(100,120), index=np.arange(10,30))\n",
    "s1"
   ]
  },
  {
   "cell_type": "code",
   "execution_count": 40,
   "metadata": {},
   "outputs": [
    {
     "data": {
      "text/plain": [
       "10    100\n",
       "12    102\n",
       "14    104\n",
       "16    106\n",
       "18    108\n",
       "dtype: int32"
      ]
     },
     "execution_count": 40,
     "metadata": {},
     "output_type": "execute_result"
    }
   ],
   "source": [
    "#Extraer solo los valores pares de las 10 primeras entradas\n",
    "s1[0:10:2]"
   ]
  },
  {
   "cell_type": "code",
   "execution_count": 41,
   "metadata": {},
   "outputs": [
    {
     "data": {
      "text/plain": [
       "20    110\n",
       "23    113\n",
       "26    116\n",
       "29    119\n",
       "dtype: int32"
      ]
     },
     "execution_count": 41,
     "metadata": {},
     "output_type": "execute_result"
    }
   ],
   "source": [
    "s1[10::3]"
   ]
  },
  {
   "cell_type": "code",
   "execution_count": 42,
   "metadata": {},
   "outputs": [
    {
     "name": "stdout",
     "output_type": "stream",
     "text": [
      "a    10\n",
      "b    15\n",
      "dtype: int64 \n",
      " b    2\n",
      "a    4\n",
      "dtype: int64\n"
     ]
    }
   ],
   "source": [
    "#Suma por índices\n",
    "sa = pd.Series([10,15], index=[\"a\", \"b\"])\n",
    "sb = pd.Series([2,4], index=[\"b\", \"a\"])\n",
    "\n",
    "print(sa,\"\\n\",sb)"
   ]
  },
  {
   "cell_type": "code",
   "execution_count": 43,
   "metadata": {},
   "outputs": [
    {
     "data": {
      "text/plain": [
       "a    14\n",
       "b    17\n",
       "dtype: int64"
      ]
     },
     "execution_count": 43,
     "metadata": {},
     "output_type": "execute_result"
    }
   ],
   "source": [
    "#Suma los valores por índices iguales\n",
    "sa + sb"
   ]
  },
  {
   "cell_type": "code",
   "execution_count": 44,
   "metadata": {},
   "outputs": [
    {
     "data": {
      "text/plain": [
       "a    3\n",
       "b    3\n",
       "dtype: int64"
      ]
     },
     "execution_count": 44,
     "metadata": {},
     "output_type": "execute_result"
    }
   ],
   "source": [
    "sc = pd.Series(3, index=sa.index) #Repite el valor pasado por la cantidad de los elementes del índice\n",
    "sc"
   ]
  },
  {
   "cell_type": "code",
   "execution_count": 45,
   "metadata": {},
   "outputs": [],
   "source": [
    "sd = pd.Series(4, index=['a','b','c','d'])"
   ]
  },
  {
   "cell_type": "code",
   "execution_count": 46,
   "metadata": {},
   "outputs": [
    {
     "data": {
      "text/plain": [
       "a    12.0\n",
       "b    12.0\n",
       "c     NaN\n",
       "d     NaN\n",
       "dtype: float64"
      ]
     },
     "execution_count": 46,
     "metadata": {},
     "output_type": "execute_result"
    }
   ],
   "source": [
    "sc * sd #Retorna un NaN en los valores donde no existen valores en ambas series"
   ]
  },
  {
   "cell_type": "code",
   "execution_count": 47,
   "metadata": {},
   "outputs": [
    {
     "data": {
      "text/plain": [
       "a    25.0\n",
       "a    13.0\n",
       "a    38.0\n",
       "a    26.0\n",
       "b    47.0\n",
       "c     NaN\n",
       "dtype: float64"
      ]
     },
     "execution_count": 47,
     "metadata": {},
     "output_type": "execute_result"
    }
   ],
   "source": [
    "a = pd.Series([10,23,43], index = ['a', 'a', 'b'])\n",
    "b = pd.Series([15,3,4,57], index = ['a', 'a', 'b', 'c'])\n",
    "\n",
    "a + b"
   ]
  },
  {
   "cell_type": "code",
   "execution_count": 48,
   "metadata": {},
   "outputs": [
    {
     "data": {
      "text/plain": [
       "a    False\n",
       "b    False\n",
       "c    False\n",
       "d     True\n",
       "e     True\n",
       "dtype: bool"
      ]
     },
     "execution_count": 48,
     "metadata": {},
     "output_type": "execute_result"
    }
   ],
   "source": [
    "#Filtros con datos booleanos\n",
    "s = pd.Series(np.arange(0,5), index= list(\"abcde\"))\n",
    "logica = s >= 3\n",
    "logica"
   ]
  },
  {
   "cell_type": "code",
   "execution_count": 49,
   "metadata": {},
   "outputs": [
    {
     "data": {
      "text/plain": [
       "d    3\n",
       "e    4\n",
       "dtype: int32"
      ]
     },
     "execution_count": 49,
     "metadata": {},
     "output_type": "execute_result"
    }
   ],
   "source": [
    "s[logica]"
   ]
  },
  {
   "cell_type": "code",
   "execution_count": 50,
   "metadata": {},
   "outputs": [
    {
     "data": {
      "text/plain": [
       "c    2\n",
       "d    3\n",
       "dtype: int32"
      ]
     },
     "execution_count": 50,
     "metadata": {},
     "output_type": "execute_result"
    }
   ],
   "source": [
    "#Varias comparaciones a la vez\n",
    "s[(s >= 2) & (s < 4)]"
   ]
  },
  {
   "cell_type": "code",
   "execution_count": 51,
   "metadata": {},
   "outputs": [
    {
     "data": {
      "text/plain": [
       "True"
      ]
     },
     "execution_count": 51,
     "metadata": {},
     "output_type": "execute_result"
    }
   ],
   "source": [
    "# Con la función \".all()\" se establece si todos los valores cumplen una condición, compara todos los valores y si todos los valores son True devuelve True\n",
    "(s >= 0).all()"
   ]
  },
  {
   "cell_type": "code",
   "execution_count": 52,
   "metadata": {},
   "outputs": [
    {
     "data": {
      "text/plain": [
       "2"
      ]
     },
     "execution_count": 52,
     "metadata": {},
     "output_type": "execute_result"
    }
   ],
   "source": [
    "#Suma de los todos los valores que son mayores o iguales a 3\n",
    "(s >= 3).sum()"
   ]
  },
  {
   "cell_type": "code",
   "execution_count": 53,
   "metadata": {},
   "outputs": [
    {
     "data": {
      "text/plain": [
       "1   NaN\n",
       "2   NaN\n",
       "3   NaN\n",
       "1   NaN\n",
       "2   NaN\n",
       "3   NaN\n",
       "dtype: float64"
      ]
     },
     "execution_count": 53,
     "metadata": {},
     "output_type": "execute_result"
    }
   ],
   "source": [
    "#Cambiar el tipo de dato de un índice\n",
    "c1 = pd.Series([10,20,30], index = [1,2,3])\n",
    "c2 = pd.Series([100,200,300], index = [\"1\", \"2\", \"3\"])\n",
    "\n",
    "c1 + c2"
   ]
  },
  {
   "cell_type": "code",
   "execution_count": 54,
   "metadata": {},
   "outputs": [
    {
     "data": {
      "text/plain": [
       "1    110\n",
       "2    220\n",
       "3    330\n",
       "dtype: int64"
      ]
     },
     "execution_count": 54,
     "metadata": {},
     "output_type": "execute_result"
    }
   ],
   "source": [
    "c2.index = c2.index.values.astype(int)\n",
    "c1 + c2"
   ]
  },
  {
   "cell_type": "code",
   "execution_count": 55,
   "metadata": {},
   "outputs": [],
   "source": [
    "#Redondeo de valores\n",
    "d1 = np.random.rand(5).round(3)*10\n",
    "d2 = np.random.rand(5).round(3)*10"
   ]
  },
  {
   "cell_type": "code",
   "execution_count": 56,
   "metadata": {},
   "outputs": [
    {
     "data": {
      "text/html": [
       "<div>\n",
       "<style scoped>\n",
       "    .dataframe tbody tr th:only-of-type {\n",
       "        vertical-align: middle;\n",
       "    }\n",
       "\n",
       "    .dataframe tbody tr th {\n",
       "        vertical-align: top;\n",
       "    }\n",
       "\n",
       "    .dataframe thead th {\n",
       "        text-align: right;\n",
       "    }\n",
       "</style>\n",
       "<table border=\"1\" class=\"dataframe\">\n",
       "  <thead>\n",
       "    <tr style=\"text-align: right;\">\n",
       "      <th></th>\n",
       "      <th>Parcial_1</th>\n",
       "      <th>Parcial_2</th>\n",
       "    </tr>\n",
       "  </thead>\n",
       "  <tbody>\n",
       "    <tr>\n",
       "      <th>estudiante_1</th>\n",
       "      <td>3.25</td>\n",
       "      <td>6.35</td>\n",
       "    </tr>\n",
       "    <tr>\n",
       "      <th>estudiante_2</th>\n",
       "      <td>0.38</td>\n",
       "      <td>9.95</td>\n",
       "    </tr>\n",
       "    <tr>\n",
       "      <th>estudiante_3</th>\n",
       "      <td>6.34</td>\n",
       "      <td>5.82</td>\n",
       "    </tr>\n",
       "    <tr>\n",
       "      <th>estudiante_4</th>\n",
       "      <td>9.59</td>\n",
       "      <td>4.14</td>\n",
       "    </tr>\n",
       "    <tr>\n",
       "      <th>estudiante_5</th>\n",
       "      <td>6.53</td>\n",
       "      <td>4.75</td>\n",
       "    </tr>\n",
       "  </tbody>\n",
       "</table>\n",
       "</div>"
      ],
      "text/plain": [
       "              Parcial_1  Parcial_2\n",
       "estudiante_1       3.25       6.35\n",
       "estudiante_2       0.38       9.95\n",
       "estudiante_3       6.34       5.82\n",
       "estudiante_4       9.59       4.14\n",
       "estudiante_5       6.53       4.75"
      ]
     },
     "execution_count": 56,
     "metadata": {},
     "output_type": "execute_result"
    }
   ],
   "source": [
    "#Creación de índice\n",
    "estu = []\n",
    "for i in range(len(d1)):\n",
    "    estu.append('estudiante_'+str(i+1))\n",
    "\n",
    "\n",
    "#Creación del df\n",
    "nota = pd.DataFrame({\n",
    "    \"Parcial_1\": d1,\n",
    "    \"Parcial_2\": d2},\n",
    "    index= estu)\n",
    "\n",
    "nota"
   ]
  },
  {
   "cell_type": "code",
   "execution_count": 57,
   "metadata": {},
   "outputs": [
    {
     "ename": "AttributeError",
     "evalue": "'DataFrame' object has no attribute 'Promedio'",
     "output_type": "error",
     "traceback": [
      "\u001b[1;31m---------------------------------------------------------------------------\u001b[0m",
      "\u001b[1;31mAttributeError\u001b[0m                            Traceback (most recent call last)",
      "\u001b[1;32m~\\AppData\\Local\\Temp\\ipykernel_16856\\3053250602.py\u001b[0m in \u001b[0;36m?\u001b[1;34m()\u001b[0m\n\u001b[0;32m      1\u001b[0m \u001b[1;31m#Creación de una columna categórica\u001b[0m\u001b[1;33m\u001b[0m\u001b[1;33m\u001b[0m\u001b[0m\n\u001b[1;32m----> 2\u001b[1;33m \u001b[0mnota\u001b[0m\u001b[1;33m[\u001b[0m\u001b[1;34m\"Estado\"\u001b[0m\u001b[1;33m]\u001b[0m \u001b[1;33m=\u001b[0m \u001b[0mnota\u001b[0m\u001b[1;33m.\u001b[0m\u001b[0mPromedio\u001b[0m\u001b[1;33m.\u001b[0m\u001b[0mapply\u001b[0m\u001b[1;33m(\u001b[0m\u001b[1;32mlambda\u001b[0m \u001b[0mx\u001b[0m\u001b[1;33m:\u001b[0m \u001b[1;34m\"Aprobado\"\u001b[0m \u001b[1;32mif\u001b[0m \u001b[0mx\u001b[0m \u001b[1;33m>=\u001b[0m \u001b[1;36m6.5\u001b[0m \u001b[1;32melse\u001b[0m \u001b[1;34m\"Suspeno\"\u001b[0m \u001b[1;32mif\u001b[0m \u001b[0mx\u001b[0m \u001b[1;33m>=\u001b[0m \u001b[1;36m4.5\u001b[0m \u001b[1;32melse\u001b[0m \u001b[1;34m\"Reprobado\"\u001b[0m\u001b[1;33m)\u001b[0m\u001b[1;33m\u001b[0m\u001b[1;33m\u001b[0m\u001b[0m\n\u001b[0m\u001b[0;32m      3\u001b[0m \u001b[0mnota\u001b[0m\u001b[1;33m\u001b[0m\u001b[1;33m\u001b[0m\u001b[0m\n",
      "\u001b[1;32mc:\\Users\\Usuario\\AppData\\Local\\Programs\\Python\\Python312\\Lib\\site-packages\\pandas\\core\\generic.py\u001b[0m in \u001b[0;36m?\u001b[1;34m(self, name)\u001b[0m\n\u001b[0;32m   6200\u001b[0m             \u001b[1;32mand\u001b[0m \u001b[0mname\u001b[0m \u001b[1;32mnot\u001b[0m \u001b[1;32min\u001b[0m \u001b[0mself\u001b[0m\u001b[1;33m.\u001b[0m\u001b[0m_accessors\u001b[0m\u001b[1;33m\u001b[0m\u001b[1;33m\u001b[0m\u001b[0m\n\u001b[0;32m   6201\u001b[0m             \u001b[1;32mand\u001b[0m \u001b[0mself\u001b[0m\u001b[1;33m.\u001b[0m\u001b[0m_info_axis\u001b[0m\u001b[1;33m.\u001b[0m\u001b[0m_can_hold_identifiers_and_holds_name\u001b[0m\u001b[1;33m(\u001b[0m\u001b[0mname\u001b[0m\u001b[1;33m)\u001b[0m\u001b[1;33m\u001b[0m\u001b[1;33m\u001b[0m\u001b[0m\n\u001b[0;32m   6202\u001b[0m         \u001b[1;33m)\u001b[0m\u001b[1;33m:\u001b[0m\u001b[1;33m\u001b[0m\u001b[1;33m\u001b[0m\u001b[0m\n\u001b[0;32m   6203\u001b[0m             \u001b[1;32mreturn\u001b[0m \u001b[0mself\u001b[0m\u001b[1;33m[\u001b[0m\u001b[0mname\u001b[0m\u001b[1;33m]\u001b[0m\u001b[1;33m\u001b[0m\u001b[1;33m\u001b[0m\u001b[0m\n\u001b[1;32m-> 6204\u001b[1;33m         \u001b[1;32mreturn\u001b[0m \u001b[0mobject\u001b[0m\u001b[1;33m.\u001b[0m\u001b[0m__getattribute__\u001b[0m\u001b[1;33m(\u001b[0m\u001b[0mself\u001b[0m\u001b[1;33m,\u001b[0m \u001b[0mname\u001b[0m\u001b[1;33m)\u001b[0m\u001b[1;33m\u001b[0m\u001b[1;33m\u001b[0m\u001b[0m\n\u001b[0m",
      "\u001b[1;31mAttributeError\u001b[0m: 'DataFrame' object has no attribute 'Promedio'"
     ]
    }
   ],
   "source": [
    "#Creación de una columna categórica\n",
    "nota[\"Estado\"] = nota.Promedio.apply(lambda x: \"Aprobado\" if x >= 6.5 else \"Suspeno\" if x >= 4.5 else \"Reprobado\")\n",
    "nota\n"
   ]
  }
 ],
 "metadata": {
  "kernelspec": {
   "display_name": "Python 3",
   "language": "python",
   "name": "python3"
  },
  "language_info": {
   "codemirror_mode": {
    "name": "ipython",
    "version": 3
   },
   "file_extension": ".py",
   "mimetype": "text/x-python",
   "name": "python",
   "nbconvert_exporter": "python",
   "pygments_lexer": "ipython3",
   "version": "3.12.0"
  }
 },
 "nbformat": 4,
 "nbformat_minor": 2
}
